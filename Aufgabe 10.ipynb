{
 "cells": [
  {
   "cell_type": "markdown",
   "metadata": {},
   "source": [
    "# Aufgabe 10: 3-SAT Problem"
   ]
  },
  {
   "cell_type": "code",
   "execution_count": 1916,
   "metadata": {},
   "outputs": [
    {
     "name": "stdout",
     "output_type": "stream",
     "text": [
      "[[-14, 11, -13], [11, 13, 0], [-10, 6, 11], [14, 0, 0], [14, 15, 0], [17, -7, 0], [-8, -11, -11], [20, -15, 0], [14, 16, 0], [4, 0, 0], [7, 0, 0], [-19, 9, 11], [15, -16, 0], [2, -12, 0], [-19, -13, -4], [4, -6, 2], [-18, 14, 0], [-6, 15, 0], [-1, 0, 0], [-16, 0, 0], [-13, -18, -1], [10, 0, 0], [-19, -9, 3], [3, 2, -20], [-5, 0, 0]]\n"
     ]
    }
   ],
   "source": [
    "import numpy as np\n",
    "\n",
    "rng = np.random.default_rng()\n",
    "\n",
    "#Klauselmenge = rng.integers(size=(25,3), low=-20, high=21)\n",
    "Klauselmenge = []\n",
    "for i in range(25):\n",
    "    numLiterale = rng.integers(low=1, high=4)\n",
    "    if numLiterale == 1:\n",
    "        Klauselmenge.append([rng.choice(np.concatenate((np.arange(-20, 0), np.arange(1, 21)))), 0, 0])\n",
    "    if numLiterale == 2:\n",
    "        Klauselmenge.append([rng.choice(np.concatenate((np.arange(-20, 0), np.arange(1, 21)))), rng.choice(np.concatenate((np.arange(-20, 0), np.arange(1, 21)))), 0])\n",
    "    if numLiterale == 3:\n",
    "        Klauselmenge.append([rng.choice(np.concatenate((np.arange(-20, 0), np.arange(1, 21)))), rng.choice(np.concatenate((np.arange(-20, 0), np.arange(1, 21)))), rng.choice(np.concatenate((np.arange(-20, 0), np.arange(1, 21))))])\n",
    "\n",
    "print(Klauselmenge)\n"
   ]
  },
  {
   "cell_type": "code",
   "execution_count": 1917,
   "metadata": {},
   "outputs": [],
   "source": [
    "def InitPopulation(numIndividuen, numVariablen):\n",
    "    initPopulation = rng.integers(size=(numIndividuen, numVariablen + 1), low=0, high=2)\n",
    "    for individuum in initPopulation:\n",
    "        individuum[0] = 1\n",
    "    return initPopulation"
   ]
  },
  {
   "cell_type": "code",
   "execution_count": 1918,
   "metadata": {},
   "outputs": [
    {
     "name": "stdout",
     "output_type": "stream",
     "text": [
      "[[1 0 0 ... 0 1 1]\n",
      " [1 0 0 ... 0 1 1]\n",
      " [1 0 1 ... 0 1 1]\n",
      " ...\n",
      " [1 1 0 ... 0 1 0]\n",
      " [1 1 0 ... 0 0 1]\n",
      " [1 0 1 ... 0 1 1]]\n"
     ]
    }
   ],
   "source": [
    "startPopulation = InitPopulation(100, 20)\n",
    "print(startPopulation)"
   ]
  },
  {
   "cell_type": "code",
   "execution_count": 1919,
   "metadata": {},
   "outputs": [],
   "source": [
    "def sortPopulation(population):\n",
    "    bewertung = {}\n",
    "    for i, individuum in enumerate(population):\n",
    "        erfüllteKlauseln = 0\n",
    "        for klausel in Klauselmenge:\n",
    "            for variable in klausel:\n",
    "                if variable > 0 and individuum[variable] == 1:\n",
    "                    erfüllteKlauseln = erfüllteKlauseln + 1\n",
    "                    break\n",
    "                elif variable < 0 and individuum[-1 * variable] == 0:\n",
    "                    erfüllteKlauseln = erfüllteKlauseln + 1\n",
    "                    break\n",
    "        bewertung[i] = erfüllteKlauseln\n",
    "\n",
    "    sortierteIndividuen = dict(sorted(bewertung.items(), key=lambda item: item[1]))\n",
    "\n",
    "    return sortierteIndividuen\n"
   ]
  },
  {
   "cell_type": "code",
   "execution_count": 1920,
   "metadata": {},
   "outputs": [],
   "source": [
    "anzahlSelection = 20\n",
    "def Selektion(sortedPopulation, population):\n",
    "    selected = []\n",
    "    np.array(selected)\n",
    "    for i in range(anzahlSelection):\n",
    "        individuum = population[list(sortedPopulation.keys())[99-i]]\n",
    "        #print(individuum)\n",
    "        selected.extend(individuum)\n",
    "        \n",
    "        #selected = np.concatenate((selected,individuum ), axis=0)\n",
    "        #selected[99-i] = [individuum]\n",
    "        #selectet = selected + individuum\n",
    "        #selected\n",
    "    selected = np.reshape(selected, (anzahlSelection, 21))\n",
    "    #print(selected)\n",
    "    return selected\n",
    "\n",
    "    "
   ]
  },
  {
   "cell_type": "code",
   "execution_count": 1921,
   "metadata": {},
   "outputs": [],
   "source": [
    "def Mutation(sortedPopulation, population):\n",
    "    mutatedPopulation = []\n",
    "    for i in range(20):\n",
    "        individuum = population[list(sortedPopulation.keys())[99-i] ]\n",
    "        mutationSpot = rng.integers(low=1, high=21)\n",
    "        individuum[mutationSpot] = 1 if individuum[mutationSpot] == 0 else 0\n",
    "        mutatedPopulation.append(individuum)\n",
    "\n",
    "    return mutatedPopulation\n",
    "        "
   ]
  },
  {
   "cell_type": "code",
   "execution_count": 1922,
   "metadata": {},
   "outputs": [],
   "source": [
    "def Rekombination(sortedPopulation, population):\n",
    "    recombinedPopulation = []\n",
    "    for i in range(15):\n",
    "        individuum1 = np.array_split(population[list(sortedPopulation.keys())[99-i]], 2)\n",
    "        individuum2 = np.array_split(population[list(sortedPopulation.keys())[rng.integers(low=1, high=21)]], 2)\n",
    "\n",
    "        new1 = np.concatenate((individuum1[0], individuum2[1]))\n",
    "        new2 = np.concatenate((individuum2[0], individuum1[1]))\n",
    "\n",
    "        recombinedPopulation.append(new1)\n",
    "        recombinedPopulation.append(new2)\n",
    "        \n",
    "    return recombinedPopulation\n"
   ]
  },
  {
   "cell_type": "code",
   "execution_count": 1923,
   "metadata": {},
   "outputs": [],
   "source": [
    "def createNewRandom():\n",
    "    newRandoms = rng.integers(size=(30, 20 + 1), low=0, high=2)\n",
    "    for individuum in newRandoms:\n",
    "        individuum[0] = 1\n",
    "        \n",
    "    return newRandoms"
   ]
  },
  {
   "cell_type": "code",
   "execution_count": 1924,
   "metadata": {},
   "outputs": [
    {
     "name": "stdout",
     "output_type": "stream",
     "text": [
      "23\n",
      "23\n",
      "24\n",
      "24\n",
      "24\n",
      "24\n",
      "24\n",
      "25\n",
      "25\n",
      "25\n",
      "25\n",
      "25\n",
      "25\n",
      "25\n",
      "25\n",
      "25\n",
      "25\n",
      "25\n",
      "25\n",
      "25\n"
     ]
    }
   ],
   "source": [
    "def Evolution(iterations, startPopulation):\n",
    "    population = startPopulation\n",
    "    for i in range(iterations):\n",
    "        sortedPopulation = sortPopulation(population)\n",
    "\n",
    "        print(list(sortedPopulation.values())[99])\n",
    "\n",
    "        #print(sortedPopulation)\n",
    "\n",
    "        selektion = Selektion(sortedPopulation, population)\n",
    "        mutation = Mutation(sortedPopulation, population)\n",
    "        rekombination = Rekombination(sortedPopulation, population)\n",
    "        newRandoms = createNewRandom()\n",
    "\n",
    "        newPopulation = np.concatenate((selektion, newRandoms,mutation,rekombination ),  axis=0)\n",
    "        #print(newPopulation)\n",
    "        #print(selektion)\n",
    "        #print(len(newPopulation))\n",
    "        \n",
    "        #print(newRandoms)\n",
    "        #print(newPopulation)\n",
    "\n",
    "        population = newPopulation\n",
    "\n",
    "        \n",
    "        \n",
    "\n",
    "        \n",
    "        \n",
    "Evolution(20, startPopulation)"
   ]
  }
 ],
 "metadata": {
  "kernelspec": {
   "display_name": "env",
   "language": "python",
   "name": "python3"
  },
  "language_info": {
   "codemirror_mode": {
    "name": "ipython",
    "version": 3
   },
   "file_extension": ".py",
   "mimetype": "text/x-python",
   "name": "python",
   "nbconvert_exporter": "python",
   "pygments_lexer": "ipython3",
   "version": "3.12.2"
  }
 },
 "nbformat": 4,
 "nbformat_minor": 2
}
