{
 "cells": [
  {
   "cell_type": "markdown",
   "metadata": {},
   "source": [
    "# Aufgabe 10: 3-SAT Problem"
   ]
  },
  {
   "cell_type": "markdown",
   "metadata": {},
   "source": [
    "Befehl env/Scripts/activate zum Starten der Virtuellen Umgebung\n"
   ]
  },
  {
   "cell_type": "code",
   "execution_count": 1624,
   "metadata": {},
   "outputs": [],
   "source": [
    "import numpy as np\n",
    "rng = np.random.default_rng()\n",
    "\n",
    "################    Parameter   ################\n",
    "\n",
    "anzahlVariablen = 20\n",
    "anzahlKlauseln = 20\n",
    "maxLiteraleProKlausel = 3\n",
    "\n",
    "maxGenerationen = 30\n",
    "populationsGroesse = 100\n",
    "anzahlSelektion = 20\n",
    "anzahlMutation = 20\n",
    "anzahlRekombination = 30 #muss eine Gerade Zahl sein\n",
    "anzahlNeueIndividuen = 30\n",
    "\n",
    "################################################"
   ]
  },
  {
   "cell_type": "code",
   "execution_count": 1625,
   "metadata": {},
   "outputs": [],
   "source": [
    "def createRandomKNF():      #erstellt eine zufällige KNF\n",
    "    \n",
    "    Klauselmenge = []\n",
    "    for i in range(anzahlKlauseln):\n",
    "        numLiterale = rng.integers(low=1, high=(maxLiteraleProKlausel + 1))\n",
    "        Klausel = []\n",
    "        for k in range(numLiterale):\n",
    "            literal = rng.integers(low = 1, high=(anzahlVariablen + 1))\n",
    "            literal = -1*literal if rng.integers(low=0, high=2) == 1 else literal\n",
    "            while(literal in Klausel or -1*literal in Klausel):\n",
    "                literal = rng.integers(low = 1, high=(anzahlVariablen + 1))\n",
    "                literal = -1*literal if rng.integers(low=0, high=2) == 1 else literal\n",
    "            Klausel.append(literal)\n",
    "        for k in range(maxLiteraleProKlausel - numLiterale):\n",
    "            Klausel.append(0)\n",
    "        Klauselmenge.append(Klausel)\n",
    "    \n",
    "    return Klauselmenge"
   ]
  },
  {
   "cell_type": "code",
   "execution_count": 1626,
   "metadata": {},
   "outputs": [],
   "source": [
    "def printKNF(knf):      #gibt eine KNF in darstellender Weise aus\n",
    "    \n",
    "    print('KNF:')\n",
    "    ausgabe = ''\n",
    "    for i, klausel in enumerate(knf):\n",
    "        ausgabe += \"(\"\n",
    "        for literal in klausel:\n",
    "            if literal == 0:\n",
    "                continue\n",
    "            else:\n",
    "                variable = abs(literal)\n",
    "                literal_string = ('x' if literal > 0 else '¬x') + ''.join(chr(8320 + int(digit)) for digit in str(variable))\n",
    "                ausgabe += literal_string + ' ∨ '\n",
    "\n",
    "        ausgabe = ausgabe.rstrip(' ∨ ')\n",
    "        ausgabe += \")\" if i == len(knf) - 1 else \") ∧ \"\n",
    "\n",
    "    print(ausgabe, '\\n')"
   ]
  },
  {
   "cell_type": "code",
   "execution_count": 1627,
   "metadata": {},
   "outputs": [],
   "source": [
    "def InitPopulation():       #liefert eine zufällige Anfangspopulation\n",
    "    \n",
    "    initPopulation = rng.integers(size=(populationsGroesse, (anzahlVariablen + 1)), low=0, high=2)\n",
    "    for individuum in initPopulation:\n",
    "        individuum[0] = 0\n",
    "\n",
    "    return initPopulation"
   ]
  },
  {
   "cell_type": "code",
   "execution_count": 1628,
   "metadata": {},
   "outputs": [],
   "source": [
    "def sortPopulation(population, knf):        #sortiert alle Individuen einer Generation nach der  Anzahl erfüllter Klauseln der KNF\n",
    "\n",
    "    bewertung = {}  #dictionary speichert die Anzahl erfüllter Klauseln aller Individuen\n",
    "    for i, individuum in enumerate(population):\n",
    "        erfüllteKlauseln = 0\n",
    "        for klausel in knf:\n",
    "            for variable in klausel:\n",
    "                if variable > 0 and individuum[variable] == 1:  #Variable positiv & Belegung 1\n",
    "                    erfüllteKlauseln = erfüllteKlauseln + 1\n",
    "                    break\n",
    "                elif variable < 0 and individuum[-1 * variable] == 0:   #Variable negativ & Belegung 0\n",
    "                    erfüllteKlauseln = erfüllteKlauseln + 1\n",
    "                    break\n",
    "        bewertung[i] = erfüllteKlauseln\n",
    "\n",
    "    sortierteIndividuen = dict(sorted(bewertung.items(), key=lambda item: item[1]))     #sortiert das dictionary\n",
    "\n",
    "    return sortierteIndividuen"
   ]
  },
  {
   "cell_type": "code",
   "execution_count": 1629,
   "metadata": {},
   "outputs": [],
   "source": [
    "def Selektion(sortedPopulation, population):    #selektiert die besten Individuen aus einer Generation\n",
    "    \n",
    "    selected = []\n",
    "    np.array(selected)\n",
    "    for i in range(anzahlSelektion):\n",
    "        individuum = population[list(sortedPopulation.keys())[(populationsGroesse - 1)-i]]\n",
    "        \n",
    "        selected.extend(individuum)\n",
    "        \n",
    "    selected = np.reshape(selected, (anzahlSelektion, (anzahlVariablen + 1)))\n",
    "    \n",
    "    return selected"
   ]
  },
  {
   "cell_type": "code",
   "execution_count": 1630,
   "metadata": {},
   "outputs": [],
   "source": [
    "def Mutation(sortedPopulation, population):     #verändert eine zufällige Stelle in manchen Individuen\n",
    "\n",
    "    mutatedPopulation = []\n",
    "    for i in range(anzahlMutation):\n",
    "        individuum = population[list(sortedPopulation.keys())[(populationsGroesse - 1)-i] ]\n",
    "        mutationSpot = rng.integers(low=1, high=(anzahlVariablen + 1))\n",
    "        individuum[mutationSpot] = 1 if individuum[mutationSpot] == 0 else 0\n",
    "        mutatedPopulation.append(individuum)\n",
    "\n",
    "    return mutatedPopulation"
   ]
  },
  {
   "cell_type": "code",
   "execution_count": 1631,
   "metadata": {},
   "outputs": [],
   "source": [
    "def Rekombination(sortedPopulation, population):    #erstellt neue Individuen durch Rekombiantion aus zwei der aktuell besten Individuen\n",
    "    \n",
    "    recombinedPopulation = []\n",
    "    for i in range(int(anzahlRekombination / 2)):\n",
    "        individuum1 = np.array_split(population[list(sortedPopulation.keys())[(populationsGroesse - 1)-i]], 2)\n",
    "        individuum2 = np.array_split(population[list(sortedPopulation.keys())[rng.integers(low=1, high=21)]], 2)\n",
    "\n",
    "        new1 = np.concatenate((individuum1[0], individuum2[1]))\n",
    "        new2 = np.concatenate((individuum2[0], individuum1[1]))\n",
    "\n",
    "        recombinedPopulation.append(new1)\n",
    "        recombinedPopulation.append(new2)\n",
    "        \n",
    "    return recombinedPopulation"
   ]
  },
  {
   "cell_type": "code",
   "execution_count": 1632,
   "metadata": {},
   "outputs": [],
   "source": [
    "def createNewRandom():      #erstellt neue zufällige Individuen\n",
    "    \n",
    "    newRandoms = rng.integers(size=(anzahlNeueIndividuen, (anzahlVariablen+1)), low=0, high=2)\n",
    "    for individuum in newRandoms:\n",
    "        individuum[0] = 0\n",
    "        \n",
    "    return newRandoms"
   ]
  },
  {
   "cell_type": "code",
   "execution_count": 1633,
   "metadata": {},
   "outputs": [],
   "source": [
    "def Evolution(knf, iterations, startPopulation):    #Programmablauf\n",
    "\n",
    "    population = startPopulation\n",
    "\n",
    "    for i in range(iterations):\n",
    "        sortedPopulation = sortPopulation(population, knf)      #sortiert die Population der i. Generation\n",
    "\n",
    "        if(list(sortedPopulation.values())[populationsGroesse - 1] == anzahlKlauseln):      #Abbruchkriterium (wenn eine Belegung gefunden wurde, für welche alle Klauseln wahr sind)\n",
    "            print(f'Erfüllende Belegung gefunden in der {i}. Generation')\n",
    "            return population[list(sortedPopulation.keys())[(populationsGroesse - 1)]]\n",
    "\n",
    "        selektion = Selektion(sortedPopulation, population)\n",
    "        mutation = Mutation(sortedPopulation, population)\n",
    "        rekombination = Rekombination(sortedPopulation, population)\n",
    "        newRandoms = createNewRandom()\n",
    "\n",
    "        newPopulation = np.concatenate((selektion, newRandoms,mutation,rekombination ),  axis=0)    #erstellt eine neue Population aus den 4 angewandten Methoden\n",
    "\n",
    "        population = newPopulation\n",
    "\n",
    "    print(f'Nach {maxGenerationen} Generationen wurde keine Erfüllende Belegung gefunden')      #Es wurde keine Belegung gefunden -> wahrscheinlich eine Kontradiktion\n",
    "    \n",
    "    return ['Kontradiktion']"
   ]
  },
  {
   "cell_type": "code",
   "execution_count": 1634,
   "metadata": {},
   "outputs": [],
   "source": [
    "def print_marked_knf(knf, belegung):    #gibt die KNF aus, wobei alle Literale, welche unter der Belung w sind, grün geschrieben werden\n",
    "    GREEN = '\\033[92m'\n",
    "    RESET = '\\033[0m'\n",
    "\n",
    "    ausgabe = ''\n",
    "    for i, klausel in enumerate(knf):\n",
    "        ausgabe += \"(\"\n",
    "        for literal in klausel:\n",
    "            if literal == 0:\n",
    "                continue\n",
    "            else:\n",
    "                variable = abs(literal)\n",
    "                literal_string = ('x' if literal > 0 else '¬x') + ''.join(chr(8320 + int(digit)) for digit in str(variable))\n",
    "                if (literal > 0 and belegung[variable]) or (literal < 0 and not belegung[variable]):\n",
    "                    ausgabe += GREEN + literal_string + RESET + ' ∨ '\n",
    "                else:\n",
    "                    ausgabe += literal_string + ' ∨ '\n",
    "\n",
    "        ausgabe = ausgabe.rstrip(' ∨ ')\n",
    "        ausgabe += \")\" if i == len(knf) - 1 else \") ∧ \"\n",
    "\n",
    "    print(ausgabe)\n"
   ]
  },
  {
   "cell_type": "code",
   "execution_count": 1635,
   "metadata": {},
   "outputs": [],
   "source": [
    "def printBelegung(belegung):    #gibt eine Belegung aus\n",
    "    for i, variable in enumerate(belegung):\n",
    "        if i == 0: continue\n",
    "        \n",
    "        print(f'x' + ''.join(chr(8320 + int(digit)) for digit in str(i)) + ':', ('w' if variable == 1 else 'f'), end='      ')  #gibt einzelne Varibale aus, z.B. x₁ = w\n",
    "\n",
    "        if i%4 == 0: print('\\n')    #nach jeweils 4 Variablen ein Zeilenumbruch\n",
    "\n",
    "    print('\\n')"
   ]
  },
  {
   "cell_type": "markdown",
   "metadata": {},
   "source": [
    "Tautologie:"
   ]
  },
  {
   "cell_type": "code",
   "execution_count": 1636,
   "metadata": {},
   "outputs": [
    {
     "name": "stdout",
     "output_type": "stream",
     "text": [
      "Erfüllende Belegung gefunden in der 0. Generation\n"
     ]
    }
   ],
   "source": [
    "#Erstellen einer Tautologie\n",
    "knf = []\n",
    "for i in range(anzahlKlauseln):\n",
    "    knf.append([1, -1, 0])      #entspricht der Klausel (x₁ ∨ ¬x₁ ∨ f) -> immer Wahr\n",
    "\n",
    "startPopulation = InitPopulation()\n",
    "belegung = Evolution(knf, maxGenerationen, startPopulation)"
   ]
  },
  {
   "cell_type": "markdown",
   "metadata": {},
   "source": [
    "Kontradiktion:"
   ]
  },
  {
   "cell_type": "code",
   "execution_count": 1637,
   "metadata": {},
   "outputs": [
    {
     "name": "stdout",
     "output_type": "stream",
     "text": [
      "Nach 30 Generationen wurde keine Erfüllende Belegung gefunden\n"
     ]
    }
   ],
   "source": [
    "knf = [[1, 0, 0]]       #entspricht der Klausel (x₁ ∨ f ∨ f)\n",
    "for i in range(anzahlKlauseln - 1):                                      #(x₁ ∨ f ∨ f) ∧ (¬x₁ ∨ f ∨ f) immer falsch\n",
    "    knf.append([-1, 0, 0])      #entspricht der Klausel (¬x₁ ∨ f ∨ f)\n",
    "\n",
    "startPopulation = InitPopulation()\n",
    "belegung = Evolution(knf, maxGenerationen, startPopulation)"
   ]
  },
  {
   "cell_type": "markdown",
   "metadata": {},
   "source": [
    "Zufällige KNF:"
   ]
  },
  {
   "cell_type": "code",
   "execution_count": 1638,
   "metadata": {},
   "outputs": [
    {
     "name": "stdout",
     "output_type": "stream",
     "text": [
      "KNF:\n",
      "(¬x₁₄ ∨ ¬x₈) ∧ (¬x₁₉ ∨ ¬x₁₇ ∨ ¬x₁₀) ∧ (x₁₈) ∧ (¬x₁₄ ∨ x₁₉) ∧ (x₂₀) ∧ (x₇ ∨ ¬x₂₀ ∨ x₈) ∧ (¬x₆) ∧ (¬x₁ ∨ x₁₄ ∨ ¬x₁₁) ∧ (x₁₅ ∨ x₁₉) ∧ (x₈) ∧ (¬x₁₄) ∧ (x₂) ∧ (x₁₂ ∨ x₃ ∨ ¬x₁₉) ∧ (x₁₄ ∨ ¬x₁₉ ∨ x₇) ∧ (x₁₁) ∧ (x₁₀) ∧ (¬x₉ ∨ ¬x₆) ∧ (¬x₂ ∨ x₅) ∧ (¬x₁₇) ∧ (x₁₆ ∨ ¬x₁₇) \n",
      "\n",
      "Erfüllende Belegung gefunden in der 3. Generation\n",
      "x₁: f      x₂: w      x₃: f      x₄: f      \n",
      "\n",
      "x₅: w      x₆: f      x₇: f      x₈: w      \n",
      "\n",
      "x₉: w      x₁₀: w      x₁₁: w      x₁₂: f      \n",
      "\n",
      "x₁₃: f      x₁₄: f      x₁₅: w      x₁₆: f      \n",
      "\n",
      "x₁₇: f      x₁₈: w      x₁₉: f      x₂₀: w      \n",
      "\n",
      "\n",
      "\n",
      "(\u001b[92m¬x₁₄\u001b[0m ∨ ¬x₈) ∧ (\u001b[92m¬x₁₉\u001b[0m ∨ \u001b[92m¬x₁₇\u001b[0m ∨ ¬x₁₀) ∧ (\u001b[92mx₁₈\u001b[0m) ∧ (\u001b[92m¬x₁₄\u001b[0m ∨ x₁₉) ∧ (\u001b[92mx₂₀\u001b[0m) ∧ (x₇ ∨ ¬x₂₀ ∨ \u001b[92mx₈\u001b[0m) ∧ (\u001b[92m¬x₆\u001b[0m) ∧ (\u001b[92m¬x₁\u001b[0m ∨ x₁₄ ∨ ¬x₁₁) ∧ (\u001b[92mx₁₅\u001b[0m ∨ x₁₉) ∧ (\u001b[92mx₈\u001b[0m) ∧ (\u001b[92m¬x₁₄\u001b[0m) ∧ (\u001b[92mx₂\u001b[0m) ∧ (x₁₂ ∨ x₃ ∨ \u001b[92m¬x₁₉\u001b[0m) ∧ (x₁₄ ∨ \u001b[92m¬x₁₉\u001b[0m ∨ x₇) ∧ (\u001b[92mx₁₁\u001b[0m) ∧ (\u001b[92mx₁₀\u001b[0m) ∧ (¬x₉ ∨ \u001b[92m¬x₆\u001b[0m) ∧ (¬x₂ ∨ \u001b[92mx₅\u001b[0m) ∧ (\u001b[92m¬x₁₇\u001b[0m) ∧ (x₁₆ ∨ \u001b[92m¬x₁₇\u001b[0m)\n"
     ]
    }
   ],
   "source": [
    "knf = createRandomKNF()\n",
    "printKNF(knf)\n",
    "\n",
    "startPopulation = InitPopulation()\n",
    "belegung = Evolution(knf, maxGenerationen, startPopulation)\n",
    "\n",
    "if belegung[0] != 'Kontradiktion':\n",
    "    printBelegung(belegung)\n",
    "    print_marked_knf(knf, belegung)"
   ]
  }
 ],
 "metadata": {
  "kernelspec": {
   "display_name": "env",
   "language": "python",
   "name": "python3"
  },
  "language_info": {
   "codemirror_mode": {
    "name": "ipython",
    "version": 3
   },
   "file_extension": ".py",
   "mimetype": "text/x-python",
   "name": "python",
   "nbconvert_exporter": "python",
   "pygments_lexer": "ipython3",
   "version": "3.12.1"
  }
 },
 "nbformat": 4,
 "nbformat_minor": 2
}
