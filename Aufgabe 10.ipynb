{
 "cells": [
  {
   "cell_type": "markdown",
   "metadata": {},
   "source": [
    "# Aufgabe 10: 3-SAT Problem"
   ]
  },
  {
   "cell_type": "code",
   "execution_count": 269,
   "metadata": {},
   "outputs": [
    {
     "name": "stdout",
     "output_type": "stream",
     "text": [
      "[[-2, 14, 3], [-1, 17, -14], [-1, -15, 0], [-19, -13, 0], [13, 0, 0], [11, 0, 0], [-4, 0, 0], [3, 9, -17], [-6, 0, 0], [-10, 0, 0], [1, -9, 0], [2, 2, -13], [-20, -8, -14], [3, -19, 18], [-15, 0, 0], [-6, -12, 0], [-6, 13, 0], [6, 16, 9], [9, 0, 0], [-10, 7, -18], [-3, 0, 0], [12, -15, 0], [4, 0, 0], [14, -11, 0], [19, -10, 0]]\n"
     ]
    }
   ],
   "source": [
    "import numpy as np\n",
    "\n",
    "rng = np.random.default_rng()\n",
    "\n",
    "#Klauselmenge = rng.integers(size=(25,3), low=-20, high=21)\n",
    "Klauselmenge = []\n",
    "for i in range(25):\n",
    "    numLiterale = rng.integers(low=1, high=4)\n",
    "    if numLiterale == 1:\n",
    "        Klauselmenge.append([rng.choice(np.concatenate((np.arange(-20, 0), np.arange(1, 21)))), 0, 0])\n",
    "    if numLiterale == 2:\n",
    "        Klauselmenge.append([rng.choice(np.concatenate((np.arange(-20, 0), np.arange(1, 21)))), rng.choice(np.concatenate((np.arange(-20, 0), np.arange(1, 21)))), 0])\n",
    "    if numLiterale == 3:\n",
    "        Klauselmenge.append([rng.choice(np.concatenate((np.arange(-20, 0), np.arange(1, 21)))), rng.choice(np.concatenate((np.arange(-20, 0), np.arange(1, 21)))), rng.choice(np.concatenate((np.arange(-20, 0), np.arange(1, 21))))])\n",
    "\n",
    "print(Klauselmenge)\n"
   ]
  },
  {
   "cell_type": "code",
   "execution_count": 270,
   "metadata": {},
   "outputs": [],
   "source": [
    "def InitPopulation(numIndividuen, numVariablen):\n",
    "    initPopulation = rng.integers(size=(numIndividuen, numVariablen + 1), low=0, high=2)\n",
    "    for individuum in initPopulation:\n",
    "        individuum[0] = 1\n",
    "    return initPopulation"
   ]
  },
  {
   "cell_type": "code",
   "execution_count": 271,
   "metadata": {},
   "outputs": [
    {
     "name": "stdout",
     "output_type": "stream",
     "text": [
      "[[1 1 1 ... 1 0 0]\n",
      " [1 1 1 ... 0 1 1]\n",
      " [1 1 1 ... 1 0 0]\n",
      " ...\n",
      " [1 1 1 ... 1 0 0]\n",
      " [1 0 1 ... 0 1 1]\n",
      " [1 1 1 ... 1 1 1]]\n"
     ]
    }
   ],
   "source": [
    "startPopulation = InitPopulation(100, 20)\n",
    "print(startPopulation)"
   ]
  },
  {
   "cell_type": "code",
   "execution_count": 272,
   "metadata": {},
   "outputs": [
    {
     "name": "stdout",
     "output_type": "stream",
     "text": [
      "{46: 12, 7: 13, 14: 14, 75: 14, 90: 14, 93: 14, 10: 15, 16: 15, 25: 15, 26: 15, 51: 15, 54: 15, 55: 15, 63: 15, 78: 15, 80: 15, 81: 15, 86: 15, 92: 15, 0: 16, 12: 16, 24: 16, 33: 16, 35: 16, 36: 16, 39: 16, 40: 16, 59: 16, 71: 16, 73: 16, 83: 16, 95: 16, 98: 16, 99: 16, 1: 17, 3: 17, 18: 17, 20: 17, 23: 17, 31: 17, 34: 17, 37: 17, 38: 17, 43: 17, 49: 17, 60: 17, 61: 17, 66: 17, 67: 17, 79: 17, 85: 17, 88: 17, 94: 17, 96: 17, 6: 18, 11: 18, 15: 18, 29: 18, 30: 18, 41: 18, 45: 18, 50: 18, 69: 18, 77: 18, 84: 18, 89: 18, 97: 18, 4: 19, 9: 19, 17: 19, 27: 19, 28: 19, 42: 19, 44: 19, 47: 19, 48: 19, 52: 19, 53: 19, 58: 19, 62: 19, 64: 19, 68: 19, 70: 19, 74: 19, 87: 19, 2: 20, 5: 20, 21: 20, 57: 20, 65: 20, 76: 20, 82: 20, 8: 21, 13: 21, 19: 21, 32: 21, 56: 21, 72: 21, 91: 21, 22: 23}\n"
     ]
    }
   ],
   "source": [
    "bewertung = {}\n",
    "for i, individuum in enumerate(startPopulation):\n",
    "    erfüllteKlauseln = 0\n",
    "    for klausel in Klauselmenge:\n",
    "        for variable in klausel:\n",
    "            if variable > 0 and individuum[variable] == 1:\n",
    "                erfüllteKlauseln = erfüllteKlauseln + 1\n",
    "                break\n",
    "            elif variable < 0 and individuum[-1 * variable] == 0:\n",
    "                erfüllteKlauseln = erfüllteKlauseln + 1\n",
    "                break\n",
    "    bewertung[i] = erfüllteKlauseln\n",
    "\n",
    "sortierteIndividuen = dict(sorted(bewertung.items(), key=lambda item: item[1]))\n",
    "\n",
    "print(sortierteIndividuen)\n"
   ]
  }
 ],
 "metadata": {
  "kernelspec": {
   "display_name": "env",
   "language": "python",
   "name": "python3"
  },
  "language_info": {
   "codemirror_mode": {
    "name": "ipython",
    "version": 3
   },
   "file_extension": ".py",
   "mimetype": "text/x-python",
   "name": "python",
   "nbconvert_exporter": "python",
   "pygments_lexer": "ipython3",
   "version": "3.12.1"
  }
 },
 "nbformat": 4,
 "nbformat_minor": 2
}
