{
 "cells": [
  {
   "cell_type": "markdown",
   "metadata": {},
   "source": [
    "# Aufgabe 10: 3-SAT Problem"
   ]
  },
  {
   "cell_type": "markdown",
   "metadata": {},
   "source": [
    "Befehl env/Scripts/activate zum Starten der Virtuellen Umgebung\n"
   ]
  },
  {
   "cell_type": "code",
   "execution_count": 183,
   "metadata": {},
   "outputs": [],
   "source": [
    "import numpy as np\n",
    "rng = np.random.default_rng()\n",
    "\n",
    "################    Parameter   ################\n",
    "\n",
    "anzahlVariablen = 20\n",
    "anzahlKlauseln = 20\n",
    "maxLiteraleProKlausel = 3\n",
    "\n",
    "maxGenerationen = 30\n",
    "populationsGroesse = 100\n",
    "anzahlSelektion = 20\n",
    "anzahlMutation = 20\n",
    "anzahlRekombination = 30 #muss eine Gerade Zahl sein\n",
    "anzahlNeueIndividuen = 30\n",
    "\n",
    "################################################"
   ]
  },
  {
   "cell_type": "code",
   "execution_count": 184,
   "metadata": {},
   "outputs": [],
   "source": [
    "def createRandomKNF():\n",
    "    Klauselmenge = []\n",
    "    for i in range(anzahlKlauseln):\n",
    "        numLiterale = rng.integers(low=1, high=(maxLiteraleProKlausel + 1))\n",
    "        Klausel = []\n",
    "        for k in range(numLiterale):\n",
    "            literal = rng.integers(low = 1, high=(anzahlVariablen + 1))\n",
    "            literal = -1*literal if rng.integers(low=0, high=2) == 1 else literal\n",
    "            while(literal in Klausel or -1*literal in Klausel):\n",
    "                literal = rng.integers(low = 1, high=(anzahlVariablen + 1))\n",
    "                literal = -1*literal if rng.integers(low=0, high=2) == 1 else literal\n",
    "            Klausel.append(literal)\n",
    "        for k in range(maxLiteraleProKlausel - numLiterale):\n",
    "            Klausel.append(0)\n",
    "        Klauselmenge.append(Klausel)\n",
    "    \n",
    "    return Klauselmenge\n",
    "    \n",
    "\n",
    "#alt:\n",
    "#for i in range(25):\n",
    "    #numLiterale = rng.integers(low=1, high=4)\n",
    "    #if numLiterale == 1:\n",
    "        #Klauselmenge.append([rng.choice(np.concatenate((np.arange(-20, 0), np.arange(1, 21)))), 0, 0])\n",
    "    #if numLiterale == 2:\n",
    "        #Klauselmenge.append([rng.choice(np.concatenate((np.arange(-20, 0), np.arange(1, 21)))), rng.choice(np.concatenate((np.arange(-20, 0), np.arange(1, 21)))), 0])\n",
    "    #if numLiterale == 3:\n",
    "        #Klauselmenge.append([rng.choice(np.concatenate((np.arange(-20, 0), np.arange(1, 21)))), rng.choice(np.concatenate((np.arange(-20, 0), np.arange(1, 21)))), rng.choice(np.concatenate((np.arange(-20, 0), np.arange(1, 21))))])\n",
    "\n"
   ]
  },
  {
   "cell_type": "code",
   "execution_count": 185,
   "metadata": {},
   "outputs": [],
   "source": [
    "def createWordKNF(klauselmenge):\n",
    "    wordKlauselmenge = []\n",
    "    for klausel in klauselmenge:\n",
    "        wordKlausel =[]\n",
    "        for i,variable in enumerate(klausel):\n",
    "            if variable == 0:\n",
    "                wordKlausel.append(\"f ∨ \")\n",
    "            elif variable >0:\n",
    "                number = int(variable)\n",
    "                number = str(number)\n",
    "                number = ''.join(chr(8320 + int(digit)) for digit in number)\n",
    "                wordKlausel.append(\"x\" + number + \" ∨ \")\n",
    "            elif variable <0:\n",
    "                number = abs(int(variable))\n",
    "                number = str(number)\n",
    "                number = ''.join(chr(8320 + int(digit)) for digit in number)\n",
    "                wordKlausel.append(\"¬x\" + number + \" ∨ \")\n",
    "        wordKlausel[-1] = wordKlausel[-1].replace(\" ∨ \", '')\n",
    "            \n",
    "        wordKlauselmenge.append(wordKlausel)\n",
    "    return(wordKlauselmenge)\n",
    "\n",
    "def printWordKNF(wordKlauselmenge):\n",
    "    for i, Klausel in enumerate(wordKlauselmenge):\n",
    "        print(\"(\", end=\"\")\n",
    "        for Variable in Klausel:\n",
    "            print(Variable, end=\"\")\n",
    "        if i == (len(wordKlauselmenge) - 1):\n",
    "            print(\")\")\n",
    "        else: \n",
    "            print(\") ∧ \" ,end=\"\")\n",
    "        \n",
    "    "
   ]
  },
  {
   "cell_type": "code",
   "execution_count": 186,
   "metadata": {},
   "outputs": [],
   "source": [
    "def InitPopulation():\n",
    "    initPopulation = rng.integers(size=(populationsGroesse, (anzahlVariablen + 1)), low=0, high=2)\n",
    "    for individuum in initPopulation:\n",
    "        individuum[0] = 1\n",
    "\n",
    "    return initPopulation"
   ]
  },
  {
   "cell_type": "code",
   "execution_count": 187,
   "metadata": {},
   "outputs": [],
   "source": [
    "def sortPopulation(population, knf):\n",
    "    bewertung = {}\n",
    "    for i, individuum in enumerate(population):\n",
    "        erfüllteKlauseln = 0\n",
    "        for klausel in knf:\n",
    "            for variable in klausel:\n",
    "                if variable > 0 and individuum[variable] == 1:\n",
    "                    erfüllteKlauseln = erfüllteKlauseln + 1\n",
    "                    break\n",
    "                elif variable < 0 and individuum[-1 * variable] == 0:\n",
    "                    erfüllteKlauseln = erfüllteKlauseln + 1\n",
    "                    break\n",
    "        bewertung[i] = erfüllteKlauseln\n",
    "\n",
    "    sortierteIndividuen = dict(sorted(bewertung.items(), key=lambda item: item[1]))\n",
    "\n",
    "    return sortierteIndividuen"
   ]
  },
  {
   "cell_type": "code",
   "execution_count": 188,
   "metadata": {},
   "outputs": [],
   "source": [
    "def Selektion(sortedPopulation, population):\n",
    "    selected = []\n",
    "    np.array(selected)\n",
    "    for i in range(anzahlSelektion):\n",
    "        individuum = population[list(sortedPopulation.keys())[(populationsGroesse - 1)-i]]\n",
    "        #print(individuum)\n",
    "        selected.extend(individuum)\n",
    "        \n",
    "        #selected = np.concatenate((selected,individuum ), axis=0)\n",
    "        #selected[99-i] = [individuum]\n",
    "        #selectet = selected + individuum\n",
    "        #selected\n",
    "    selected = np.reshape(selected, (anzahlSelektion, (anzahlVariablen + 1)))\n",
    "    \n",
    "    return selected"
   ]
  },
  {
   "cell_type": "code",
   "execution_count": 189,
   "metadata": {},
   "outputs": [],
   "source": [
    "def Mutation(sortedPopulation, population):\n",
    "    mutatedPopulation = []\n",
    "    for i in range(anzahlMutation):\n",
    "        individuum = population[list(sortedPopulation.keys())[(populationsGroesse - 1)-i] ]\n",
    "        mutationSpot = rng.integers(low=1, high=(anzahlVariablen + 1))\n",
    "        individuum[mutationSpot] = 1 if individuum[mutationSpot] == 0 else 0\n",
    "        mutatedPopulation.append(individuum)\n",
    "\n",
    "    return mutatedPopulation\n",
    "        "
   ]
  },
  {
   "cell_type": "code",
   "execution_count": 190,
   "metadata": {},
   "outputs": [],
   "source": [
    "def Rekombination(sortedPopulation, population):\n",
    "    recombinedPopulation = []\n",
    "    for i in range(int(anzahlRekombination / 2)):\n",
    "        individuum1 = np.array_split(population[list(sortedPopulation.keys())[(populationsGroesse - 1)-i]], 2)\n",
    "        individuum2 = np.array_split(population[list(sortedPopulation.keys())[rng.integers(low=1, high=21)]], 2)\n",
    "\n",
    "        new1 = np.concatenate((individuum1[0], individuum2[1]))\n",
    "        new2 = np.concatenate((individuum2[0], individuum1[1]))\n",
    "\n",
    "        recombinedPopulation.append(new1)\n",
    "        recombinedPopulation.append(new2)\n",
    "        \n",
    "    return recombinedPopulation"
   ]
  },
  {
   "cell_type": "code",
   "execution_count": 191,
   "metadata": {},
   "outputs": [],
   "source": [
    "def createNewRandom():\n",
    "    newRandoms = rng.integers(size=(anzahlNeueIndividuen, (anzahlVariablen+1)), low=0, high=2)\n",
    "    for individuum in newRandoms:\n",
    "        individuum[0] = 1\n",
    "        \n",
    "    return newRandoms"
   ]
  },
  {
   "cell_type": "code",
   "execution_count": 192,
   "metadata": {},
   "outputs": [],
   "source": [
    "def Evolution(knf, iterations, startPopulation):\n",
    "    population = startPopulation\n",
    "    for i in range(iterations):\n",
    "        sortedPopulation = sortPopulation(population, knf)\n",
    "\n",
    "        #print(list(sortedPopulation.values())[populationsGroesse - 1])\n",
    "        if(list(sortedPopulation.values())[populationsGroesse - 1] == anzahlKlauseln):\n",
    "            print(f'Erfüllende Belegung gefunden in der {i}. Generation')\n",
    "            return population[list(sortedPopulation.keys())[(populationsGroesse - 1)]]\n",
    "\n",
    "        selektion = Selektion(sortedPopulation, population)\n",
    "        mutation = Mutation(sortedPopulation, population)\n",
    "        rekombination = Rekombination(sortedPopulation, population)\n",
    "        newRandoms = createNewRandom()\n",
    "\n",
    "        newPopulation = np.concatenate((selektion, newRandoms,mutation,rekombination ),  axis=0)\n",
    "\n",
    "        population = newPopulation\n",
    "    print(f'Nach {maxGenerationen} Generationen wurde keine Erfüllende Belegung gefunden')\n",
    "    return 'Kontradiktion'"
   ]
  },
  {
   "cell_type": "code",
   "execution_count": 193,
   "metadata": {},
   "outputs": [],
   "source": [
    "def print_marked_word_knf(knf, belegung):\n",
    "    GREEN = '\\033[92m'\n",
    "    RESET = '\\033[0m'\n",
    "    RED = '\\033[91m'\n",
    "\n",
    "    ausgabe = ''\n",
    "    for i, klausel in enumerate(knf):\n",
    "        ausgabe += \"(\"\n",
    "        for literal in klausel:\n",
    "            if literal == 0:\n",
    "                #ausgabe += 'f ∨ '\n",
    "                continue\n",
    "            else:\n",
    "                variable = abs(literal)\n",
    "                literal_string = ('x' if literal > 0 else '¬x') + str(variable)\n",
    "                if (literal > 0 and belegung[variable]) or (literal < 0 and not belegung[variable]):\n",
    "                    ausgabe += GREEN + literal_string + RESET + ' ∨ '\n",
    "                else:\n",
    "                    ausgabe += literal_string + ' ∨ '\n",
    "\n",
    "        ausgabe = ausgabe.rstrip(' ∨ ')\n",
    "        ausgabe += \")\" if i == len(knf) - 1 else \") ∧ \"\n",
    "\n",
    "    print(ausgabe)\n"
   ]
  },
  {
   "cell_type": "code",
   "execution_count": 194,
   "metadata": {},
   "outputs": [],
   "source": [
    "#benutzereingabe = 4\n",
    "#while benutzereingabe <0 or benutzereingabe >3:\n",
    "    #benutzereingabe = int(input(\"Bitte Modus wählen \\n  1 = zufällige \\n 2 = Eingabe einer Kontradiktion \\n \"))\n",
    "\n",
    "\n",
    "#if benutzereingabe ==1:\n",
    "    #knf = createRandomKNF()\n",
    "#elif benutzereingabe ==2:\n",
    "    #Kontradiktionserstellung\n",
    "    #print(benutzereingabe)\n",
    "#wordKNF = generateWordKNF(knf)\n",
    "#printWordKNF(wordKNF)"
   ]
  },
  {
   "cell_type": "code",
   "execution_count": 195,
   "metadata": {},
   "outputs": [
    {
     "name": "stdout",
     "output_type": "stream",
     "text": [
      "(x₁₀ ∨ x₁₇ ∨ ¬x₂₀) ∧ (x₁₃ ∨ x₁₉ ∨ f) ∧ (¬x₁₀ ∨ ¬x₅ ∨ f) ∧ (x₁₉ ∨ x₁₆ ∨ x₁₃) ∧ (¬x₁₁ ∨ f ∨ f) ∧ (¬x₉ ∨ f ∨ f) ∧ (¬x₇ ∨ x₁₉ ∨ x₃) ∧ (¬x₇ ∨ ¬x₁₃ ∨ f) ∧ (x₉ ∨ x₇ ∨ ¬x₁₉) ∧ (¬x₁₉ ∨ f ∨ f) ∧ (¬x₁₂ ∨ ¬x₁₈ ∨ f) ∧ (¬x₁₀ ∨ ¬x₁₂ ∨ f) ∧ (x₁₂ ∨ f ∨ f) ∧ (¬x₄ ∨ x₁₁ ∨ x₁₈) ∧ (¬x₁₁ ∨ ¬x₂ ∨ f) ∧ (x₇ ∨ ¬x₁₇ ∨ f) ∧ (x₁₇ ∨ ¬x₃ ∨ ¬x₁₁) ∧ (¬x₉ ∨ x₁₇ ∨ x₁₉) ∧ (x₁₇ ∨ ¬x₇ ∨ ¬x₆) ∧ (x₁₂ ∨ ¬x₇ ∨ f)\n",
      "Erfüllende Belegung gefunden in der 19. Generation\n",
      "[1 1 1 1 0 1 0 0 0 0 0 0 1 1 0 0 0 0 0 0 0]\n",
      "(x10 ∨ x17 ∨ \u001b[92m¬x20\u001b[0m) ∧ (\u001b[92mx13\u001b[0m ∨ x19) ∧ (\u001b[92m¬x10\u001b[0m ∨ ¬x5) ∧ (x19 ∨ x16 ∨ \u001b[92mx13\u001b[0m) ∧ (\u001b[92m¬x11\u001b[0m) ∧ (\u001b[92m¬x9\u001b[0m) ∧ (\u001b[92m¬x7\u001b[0m ∨ x19 ∨ \u001b[92mx3\u001b[0m) ∧ (\u001b[92m¬x7\u001b[0m ∨ ¬x13) ∧ (x9 ∨ x7 ∨ \u001b[92m¬x19\u001b[0m) ∧ (\u001b[92m¬x19\u001b[0m) ∧ (¬x12 ∨ \u001b[92m¬x18\u001b[0m) ∧ (\u001b[92m¬x10\u001b[0m ∨ ¬x12) ∧ (\u001b[92mx12\u001b[0m) ∧ (\u001b[92m¬x4\u001b[0m ∨ x11 ∨ x18) ∧ (\u001b[92m¬x11\u001b[0m ∨ ¬x2) ∧ (x7 ∨ \u001b[92m¬x17\u001b[0m) ∧ (x17 ∨ ¬x3 ∨ \u001b[92m¬x11\u001b[0m) ∧ (\u001b[92m¬x9\u001b[0m ∨ x17 ∨ x19) ∧ (x17 ∨ \u001b[92m¬x7\u001b[0m ∨ \u001b[92m¬x6\u001b[0m) ∧ (\u001b[92mx12\u001b[0m ∨ \u001b[92m¬x7\u001b[0m)\n"
     ]
    }
   ],
   "source": [
    "knf = createRandomKNF()\n",
    "wordKNF = createWordKNF(knf)\n",
    "printWordKNF(wordKNF)\n",
    "\n",
    "startPopulation = InitPopulation()\n",
    "belegung = Evolution(knf, maxGenerationen, startPopulation)\n",
    "print(belegung)\n",
    "\n",
    "print_marked_word_knf(knf, belegung)"
   ]
  }
 ],
 "metadata": {
  "kernelspec": {
   "display_name": "env",
   "language": "python",
   "name": "python3"
  },
  "language_info": {
   "codemirror_mode": {
    "name": "ipython",
    "version": 3
   },
   "file_extension": ".py",
   "mimetype": "text/x-python",
   "name": "python",
   "nbconvert_exporter": "python",
   "pygments_lexer": "ipython3",
   "version": "3.12.1"
  }
 },
 "nbformat": 4,
 "nbformat_minor": 2
}
