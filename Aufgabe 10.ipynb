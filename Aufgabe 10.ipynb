{
 "cells": [
  {
   "cell_type": "markdown",
   "metadata": {},
   "source": [
    "# Aufgabe 10 - 3-SAT Problem\n",
    "\n",
    "Grundlegende Algo. und Verfahren\n",
    "\n",
    "Tim Brielmayer, Dominik Kienle, Philipp Staudinger"
   ]
  },
  {
   "cell_type": "code",
   "execution_count": 209,
   "metadata": {},
   "outputs": [],
   "source": [
    "import numpy as np\n",
    "rng = np.random.default_rng()\n",
    "\n",
    "################    Parameter   ################\n",
    "\n",
    "anzahlVariablen = 40\n",
    "anzahlKlauseln = 60\n",
    "maxLiteraleProKlausel = 5\n",
    "\n",
    "maxGenerationen = 50\n",
    "populationsGroesse = 100\n",
    "anzahlSelektion = 20\n",
    "anzahlMutation = 20\n",
    "anzahlRekombination = 30 #muss eine Gerade Zahl sein\n",
    "anzahlNeueIndividuen = 30\n",
    "\n",
    "################################################"
   ]
  },
  {
   "cell_type": "code",
   "execution_count": 210,
   "metadata": {},
   "outputs": [],
   "source": [
    "def createRandomKNF():      #erstellt eine zufällige KNF\n",
    "    \n",
    "    Klauselmenge = []\n",
    "    \n",
    "    for i in range(anzahlKlauseln):\n",
    "        \n",
    "        numLiterale = rng.integers(low=1, high=(maxLiteraleProKlausel + 1))     #zufällige Zahl zw. 1 & 3, bestimmt wie viele Literale diese Klausel beitzt\n",
    "        Klausel = []\n",
    "        \n",
    "        for k in range(numLiterale):\n",
    "            \n",
    "            literal = rng.integers(low = 1, high=(anzahlVariablen + 1))             #zufällige Variable\n",
    "            literal = -1*literal if rng.integers(low=0, high=2) == 1 else literal   #zufälliges Vorzeichen des Literals\n",
    "            \n",
    "            while(literal in Klausel or -1*literal in Klausel):     #falls dieses Literal, oder seine Negation bereits enthalten ist, wird so lange neu \"gewürfelt\" bis ein nicht vorhandenes gefunden wird\n",
    "                literal = rng.integers(low = 1, high=(anzahlVariablen + 1))\n",
    "                literal = -1*literal if rng.integers(low=0, high=2) == 1 else literal\n",
    "                \n",
    "            Klausel.append(literal) #Literal wird zur Klausel hinzugefügt\n",
    "            \n",
    "        for k in range(maxLiteraleProKlausel - numLiterale):    #füllt den Rest der Klausel mit 0ern auf\n",
    "            Klausel.append(0)\n",
    "            \n",
    "        Klauselmenge.append(Klausel)    #Klausel wird zur Klauselmenge (KNF) hinzugefügt\n",
    "    \n",
    "    return Klauselmenge"
   ]
  },
  {
   "cell_type": "code",
   "execution_count": 211,
   "metadata": {},
   "outputs": [],
   "source": [
    "def printKNF(knf):      #gibt eine KNF in darstellender Weise aus\n",
    "    \n",
    "    print('KNF:')\n",
    "    ausgabe = ''\n",
    "    for i, klausel in enumerate(knf):\n",
    "        ausgabe += \"(\"\n",
    "        for literal in klausel:\n",
    "            if literal == 0:\n",
    "                continue\n",
    "            else:\n",
    "                variable = abs(literal)\n",
    "                literal_string = ('x' if literal > 0 else '¬x') + ''.join(chr(8320 + int(digit)) for digit in str(variable))\n",
    "                ausgabe += literal_string + ' ∨ '\n",
    "\n",
    "        ausgabe = ausgabe.rstrip(' ∨ ')\n",
    "        ausgabe += \")\" if i == len(knf) - 1 else \") ∧ \"\n",
    "\n",
    "    print(ausgabe, '\\n')"
   ]
  },
  {
   "cell_type": "code",
   "execution_count": 212,
   "metadata": {},
   "outputs": [],
   "source": [
    "def InitPopulation():       #liefert eine zufällige Anfangspopulation\n",
    "    \n",
    "    initPopulation = rng.integers(size=(populationsGroesse, (anzahlVariablen + 1)), low=0, high=2)\n",
    "    for individuum in initPopulation:\n",
    "        individuum[0] = 0\n",
    "\n",
    "    return initPopulation"
   ]
  },
  {
   "cell_type": "code",
   "execution_count": 213,
   "metadata": {},
   "outputs": [],
   "source": [
    "def sortPopulation(population, knf):        #sortiert alle Individuen einer Generation nach der  Anzahl erfüllter Klauseln der KNF\n",
    "\n",
    "    bewertung = {}  #dictionary speichert die Anzahl erfüllter Klauseln aller Individuen\n",
    "    \n",
    "    for i, individuum in enumerate(population):\n",
    "        \n",
    "        erfüllteKlauseln = 0\n",
    "        \n",
    "        for klausel in knf:     #für jede Klausel der knf\n",
    "            \n",
    "            for variable in klausel:    #für jedes Literal der Klausel\n",
    "                \n",
    "                if variable > 0 and individuum[variable] == 1:  #Variable positiv & Belegung 1\n",
    "                    erfüllteKlauseln = erfüllteKlauseln + 1\n",
    "                    break\n",
    "                elif variable < 0 and individuum[-1 * variable] == 0:   #Variable negativ & Belegung 0\n",
    "                    erfüllteKlauseln = erfüllteKlauseln + 1\n",
    "                    break\n",
    "                \n",
    "        bewertung[i] = erfüllteKlauseln     #speichert die Anzahl richtiger Klauseln dieses Individuums\n",
    "\n",
    "    sortierteIndividuen = dict(sorted(bewertung.items(), key=lambda item: item[1]))     #sortiert das dictionary\n",
    "\n",
    "    return sortierteIndividuen"
   ]
  },
  {
   "cell_type": "code",
   "execution_count": 214,
   "metadata": {},
   "outputs": [],
   "source": [
    "def Selektion(sortedPopulation, population):    #selektiert die besten Individuen aus einer Generation\n",
    "    \n",
    "    selected = []\n",
    "    np.array(selected)\n",
    "    \n",
    "    for i in range(anzahlSelektion):\n",
    "        \n",
    "        #itteriert von hinten durch das Dictionary und speichert die letzten Elemente im array selected\n",
    "        individuum = population[list(sortedPopulation.keys())[(populationsGroesse - 1)-i]]\n",
    "        \n",
    "        selected.extend(individuum)\n",
    "        \n",
    "    selected = np.reshape(selected, (anzahlSelektion, (anzahlVariablen + 1)))\n",
    "    \n",
    "    return selected"
   ]
  },
  {
   "cell_type": "code",
   "execution_count": 215,
   "metadata": {},
   "outputs": [],
   "source": [
    "def Mutation(sortedPopulation, population):     #verändert eine zufällige Stelle in manchen Individuen\n",
    "\n",
    "    mutatedPopulation = []\n",
    "    \n",
    "    for i in range(anzahlMutation):\n",
    "        \n",
    "        individuum = population[list(sortedPopulation.keys())[(populationsGroesse - 1)-i] ]\n",
    "        mutationSpot = rng.integers(low=1, high=(anzahlVariablen + 1))  #zufällige Stelle im Individuum\n",
    "        individuum[mutationSpot] = 1 if individuum[mutationSpot] == 0 else 0    #dreht die Stelle um (1->0 & 0->1)\n",
    "        \n",
    "        mutatedPopulation.append(individuum)    #speichert das veränderte Individuum\n",
    "\n",
    "    return mutatedPopulation"
   ]
  },
  {
   "cell_type": "code",
   "execution_count": 216,
   "metadata": {},
   "outputs": [],
   "source": [
    "def Rekombination(sortedPopulation, population):    #erstellt neue Individuen durch Rekombiantion aus zwei der aktuell besten Individuen\n",
    "    \n",
    "    recombinedPopulation = []\n",
    "    \n",
    "    for i in range(int(anzahlRekombination / 2)):\n",
    "        \n",
    "        individuum1 = np.array_split(population[list(sortedPopulation.keys())[(populationsGroesse - 1)-i]], 2)\n",
    "        individuum2 = np.array_split(population[list(sortedPopulation.keys())[rng.integers(low=1, high=21)]], 2)\n",
    "\n",
    "        new1 = np.concatenate((individuum1[0], individuum2[1]))\n",
    "        new2 = np.concatenate((individuum2[0], individuum1[1]))\n",
    "\n",
    "        recombinedPopulation.append(new1)\n",
    "        recombinedPopulation.append(new2)\n",
    "        \n",
    "    return recombinedPopulation"
   ]
  },
  {
   "cell_type": "code",
   "execution_count": 217,
   "metadata": {},
   "outputs": [],
   "source": [
    "def createNewRandom():      #erstellt neue zufällige Individuen\n",
    "    \n",
    "    newRandoms = rng.integers(size=(anzahlNeueIndividuen, (anzahlVariablen+1)), low=0, high=2)\n",
    "    for individuum in newRandoms:\n",
    "        individuum[0] = 0\n",
    "        \n",
    "    return newRandoms"
   ]
  },
  {
   "cell_type": "code",
   "execution_count": 218,
   "metadata": {},
   "outputs": [],
   "source": [
    "def Evolution(knf, iterations, startPopulation):    #Programmablauf\n",
    "\n",
    "    population = startPopulation\n",
    "    besteIndividuen = []\n",
    "\n",
    "    for i in range(iterations):\n",
    "        sortedPopulation = sortPopulation(population, knf)      #sortiert die Population der i. Generation\n",
    "        \n",
    "        besteIndividuen.append(list(sortedPopulation.values())[(populationsGroesse - 1)])\n",
    "\n",
    "        if(list(sortedPopulation.values())[populationsGroesse - 1] == anzahlKlauseln):      #Abbruchkriterium (wenn eine Belegung gefunden wurde, für welche alle Klauseln wahr sind)\n",
    "            print(f'Erfüllende Belegung gefunden in der {i + 1}. Generation')\n",
    "            return (population[list(sortedPopulation.keys())[(populationsGroesse - 1)]], besteIndividuen)\n",
    "\n",
    "        selektion = Selektion(sortedPopulation, population)\n",
    "        mutation = Mutation(sortedPopulation, population)\n",
    "        rekombination = Rekombination(sortedPopulation, population)\n",
    "        newRandoms = createNewRandom()\n",
    "\n",
    "        newPopulation = np.concatenate((selektion, newRandoms,mutation,rekombination ),  axis=0)    #erstellt eine neue Population aus den 4 angewandten Methoden\n",
    "\n",
    "        population = newPopulation\n",
    "\n",
    "    print(f'Nach {maxGenerationen} Generationen wurde keine Erfüllende Belegung gefunden')      #Es wurde keine Belegung gefunden -> wahrscheinlich eine Kontradiktion\n",
    "    \n",
    "    return (['Kontradiktion'], besteIndividuen)"
   ]
  },
  {
   "cell_type": "code",
   "execution_count": 219,
   "metadata": {},
   "outputs": [],
   "source": [
    "def print_marked_knf(knf, belegung):    #gibt die KNF aus, wobei alle Literale, welche unter der Belung w sind, grün geschrieben werden\n",
    "    \n",
    "    GREEN = '\\033[92m'\n",
    "    RESET = '\\033[0m'\n",
    "\n",
    "    ausgabe = ''\n",
    "    \n",
    "    for i, klausel in enumerate(knf):   #itteriert durch jede Klausel der knf\n",
    "        \n",
    "        ausgabe += \"(\"\n",
    "        \n",
    "        for literal in klausel:\n",
    "            \n",
    "            if literal == 0:\n",
    "                continue\n",
    "            else:\n",
    "                variable = abs(literal)\n",
    "                literal_string = ('x' if literal > 0 else '¬x') + ''.join(chr(8320 + int(digit)) for digit in str(variable))\n",
    "                if (literal > 0 and belegung[variable]) or (literal < 0 and not belegung[variable]):\n",
    "                    ausgabe += GREEN + literal_string + RESET + ' ∨ '\n",
    "                else:\n",
    "                    ausgabe += literal_string + ' ∨ '\n",
    "\n",
    "        ausgabe = ausgabe.rstrip(' ∨ ')\n",
    "        ausgabe += \")\" if i == len(knf) - 1 else \") ∧ \"\n",
    "\n",
    "    print(ausgabe)\n"
   ]
  },
  {
   "cell_type": "code",
   "execution_count": 220,
   "metadata": {},
   "outputs": [],
   "source": [
    "import matplotlib.pyplot as plt\n",
    "\n",
    "def plotEvolution(besteIndividuen):\n",
    "    x = np.array([])\n",
    "    y = np.array([])\n",
    "    \n",
    "    for i in range(len(besteIndividuen)):\n",
    "        x = np.append(x, i)\n",
    "        y = np.append(y, besteIndividuen[i])\n",
    "    \n",
    "    (fig, ax) = plt.subplots()\n",
    "    fig.set_figheight(6)\n",
    "    fig.set_figwidth(8)\n",
    "    ax.plot(x, y)\n",
    "    ax.scatter(x, y)"
   ]
  },
  {
   "cell_type": "code",
   "execution_count": 221,
   "metadata": {},
   "outputs": [],
   "source": [
    "def printBelegung(belegung):    #gibt eine Belegung aus\n",
    "    for i, variable in enumerate(belegung):\n",
    "        if i == 0: continue\n",
    "        \n",
    "        print(f'x' + ''.join(chr(8320 + int(digit)) for digit in str(i)) + ':', ('w' if variable == 1 else 'f'), end='      ')  #gibt einzelne Varibale aus, z.B. x₁ = w\n",
    "        if i < 10: print(' ', end='')\n",
    "\n",
    "        if i%4 == 0: print('\\n')    #nach jeweils 4 Variablen ein Zeilenumbruch\n",
    "\n",
    "    print('\\n')"
   ]
  },
  {
   "cell_type": "markdown",
   "metadata": {},
   "source": [
    "## Testszenarien"
   ]
  },
  {
   "cell_type": "markdown",
   "metadata": {},
   "source": [
    "### Tautologie\n",
    "\n",
    "Versucht man eine erfüllende Belegung für eine Tautologie zu finden, ist zu erwarten, dass bereits in der Startpopulation eine Lösung gefunden wird"
   ]
  },
  {
   "cell_type": "code",
   "execution_count": 222,
   "metadata": {},
   "outputs": [
    {
     "name": "stdout",
     "output_type": "stream",
     "text": [
      "Erfüllende Belegung gefunden in der 1. Generation\n",
      "(x₁ ∨ \u001b[92m¬x₁\u001b[0m) ∧ (x₁ ∨ \u001b[92m¬x₁\u001b[0m) ∧ (x₁ ∨ \u001b[92m¬x₁\u001b[0m) ∧ (x₁ ∨ \u001b[92m¬x₁\u001b[0m) ∧ (x₁ ∨ \u001b[92m¬x₁\u001b[0m) ∧ (x₁ ∨ \u001b[92m¬x₁\u001b[0m) ∧ (x₁ ∨ \u001b[92m¬x₁\u001b[0m) ∧ (x₁ ∨ \u001b[92m¬x₁\u001b[0m) ∧ (x₁ ∨ \u001b[92m¬x₁\u001b[0m) ∧ (x₁ ∨ \u001b[92m¬x₁\u001b[0m) ∧ (x₁ ∨ \u001b[92m¬x₁\u001b[0m) ∧ (x₁ ∨ \u001b[92m¬x₁\u001b[0m) ∧ (x₁ ∨ \u001b[92m¬x₁\u001b[0m) ∧ (x₁ ∨ \u001b[92m¬x₁\u001b[0m) ∧ (x₁ ∨ \u001b[92m¬x₁\u001b[0m) ∧ (x₁ ∨ \u001b[92m¬x₁\u001b[0m) ∧ (x₁ ∨ \u001b[92m¬x₁\u001b[0m) ∧ (x₁ ∨ \u001b[92m¬x₁\u001b[0m) ∧ (x₁ ∨ \u001b[92m¬x₁\u001b[0m) ∧ (x₁ ∨ \u001b[92m¬x₁\u001b[0m) ∧ (x₁ ∨ \u001b[92m¬x₁\u001b[0m) ∧ (x₁ ∨ \u001b[92m¬x₁\u001b[0m) ∧ (x₁ ∨ \u001b[92m¬x₁\u001b[0m) ∧ (x₁ ∨ \u001b[92m¬x₁\u001b[0m) ∧ (x₁ ∨ \u001b[92m¬x₁\u001b[0m) ∧ (x₁ ∨ \u001b[92m¬x₁\u001b[0m) ∧ (x₁ ∨ \u001b[92m¬x₁\u001b[0m) ∧ (x₁ ∨ \u001b[92m¬x₁\u001b[0m) ∧ (x₁ ∨ \u001b[92m¬x₁\u001b[0m) ∧ (x₁ ∨ \u001b[92m¬x₁\u001b[0m) ∧ (x₁ ∨ \u001b[92m¬x₁\u001b[0m) ∧ (x₁ ∨ \u001b[92m¬x₁\u001b[0m) ∧ (x₁ ∨ \u001b[92m¬x₁\u001b[0m) ∧ (x₁ ∨ \u001b[92m¬x₁\u001b[0m) ∧ (x₁ ∨ \u001b[92m¬x₁\u001b[0m) ∧ (x₁ ∨ \u001b[92m¬x₁\u001b[0m) ∧ (x₁ ∨ \u001b[92m¬x₁\u001b[0m) ∧ (x₁ ∨ \u001b[92m¬x₁\u001b[0m) ∧ (x₁ ∨ \u001b[92m¬x₁\u001b[0m) ∧ (x₁ ∨ \u001b[92m¬x₁\u001b[0m) ∧ (x₁ ∨ \u001b[92m¬x₁\u001b[0m) ∧ (x₁ ∨ \u001b[92m¬x₁\u001b[0m) ∧ (x₁ ∨ \u001b[92m¬x₁\u001b[0m) ∧ (x₁ ∨ \u001b[92m¬x₁\u001b[0m) ∧ (x₁ ∨ \u001b[92m¬x₁\u001b[0m) ∧ (x₁ ∨ \u001b[92m¬x₁\u001b[0m) ∧ (x₁ ∨ \u001b[92m¬x₁\u001b[0m) ∧ (x₁ ∨ \u001b[92m¬x₁\u001b[0m) ∧ (x₁ ∨ \u001b[92m¬x₁\u001b[0m) ∧ (x₁ ∨ \u001b[92m¬x₁\u001b[0m) ∧ (x₁ ∨ \u001b[92m¬x₁\u001b[0m) ∧ (x₁ ∨ \u001b[92m¬x₁\u001b[0m) ∧ (x₁ ∨ \u001b[92m¬x₁\u001b[0m) ∧ (x₁ ∨ \u001b[92m¬x₁\u001b[0m) ∧ (x₁ ∨ \u001b[92m¬x₁\u001b[0m) ∧ (x₁ ∨ \u001b[92m¬x₁\u001b[0m) ∧ (x₁ ∨ \u001b[92m¬x₁\u001b[0m) ∧ (x₁ ∨ \u001b[92m¬x₁\u001b[0m) ∧ (x₁ ∨ \u001b[92m¬x₁\u001b[0m) ∧ (x₁ ∨ \u001b[92m¬x₁\u001b[0m)\n"
     ]
    }
   ],
   "source": [
    "#Erstellen einer Tautologie\n",
    "knf = []\n",
    "\n",
    "for i in range(anzahlKlauseln):\n",
    "    knf.append([1, -1, 0])      #entspricht der Klausel (x₁ ∨ ¬x₁ ∨ f) -> immer Wahr\n",
    "\n",
    "startPopulation = InitPopulation()\n",
    "(belegung, besteIndividuen) = Evolution(knf, maxGenerationen, startPopulation)\n",
    "\n",
    "print_marked_knf(knf, belegung)"
   ]
  },
  {
   "cell_type": "markdown",
   "metadata": {},
   "source": [
    "### Kontradiktion:\n",
    "\n",
    "Versucht man eine erfüllende Belegung für eine Kontradiktion zu finden, ist zu erwarten, dass auch nach der maximalen Anzahl an Generationen keine Belegung gefunden wurde."
   ]
  },
  {
   "cell_type": "code",
   "execution_count": 223,
   "metadata": {},
   "outputs": [
    {
     "name": "stdout",
     "output_type": "stream",
     "text": [
      "Nach 50 Generationen wurde keine Erfüllende Belegung gefunden\n"
     ]
    }
   ],
   "source": [
    "knf = [[1, 0, 0]]       #entspricht der Klausel (x₁ ∨ f ∨ f)\n",
    "\n",
    "for i in range(anzahlKlauseln - 1):                                      #(x₁ ∨ f ∨ f) ∧ (¬x₁ ∨ f ∨ f) immer falsch\n",
    "    knf.append([-1, 0, 0])      #entspricht der Klausel (¬x₁ ∨ f ∨ f)\n",
    "\n",
    "startPopulation = InitPopulation()\n",
    "(belegung, besteIndividuen) = Evolution(knf, maxGenerationen, startPopulation)"
   ]
  },
  {
   "cell_type": "markdown",
   "metadata": {},
   "source": [
    "### Zufällige KNF:"
   ]
  },
  {
   "cell_type": "code",
   "execution_count": 224,
   "metadata": {},
   "outputs": [
    {
     "name": "stdout",
     "output_type": "stream",
     "text": [
      "KNF:\n",
      "(¬x₃₁ ∨ ¬x₂₉ ∨ x₂₄ ∨ x₂₂ ∨ ¬x₁₄) ∧ (x₃₇ ∨ ¬x₂ ∨ x₁₁ ∨ ¬x₃₂ ∨ x₁₈) ∧ (x₁₅ ∨ x₂₂ ∨ ¬x₂₉ ∨ x₄₀) ∧ (¬x₁) ∧ (x₃₈ ∨ ¬x₂₇ ∨ x₃₅) ∧ (¬x₂₄) ∧ (x₂₀ ∨ x₂₁) ∧ (x₃ ∨ x₄ ∨ ¬x₃₇ ∨ x₃₂ ∨ x₂) ∧ (x₃₇ ∨ ¬x₃₈ ∨ ¬x₃₀) ∧ (¬x₂₇) ∧ (¬x₂₁ ∨ ¬x₁₇ ∨ ¬x₁₂ ∨ x₄) ∧ (¬x₂₄ ∨ ¬x₆ ∨ x₁₉ ∨ x₃₆) ∧ (¬x₂₆) ∧ (¬x₁) ∧ (x₃₇) ∧ (¬x₄ ∨ x₂₀ ∨ x₂₄ ∨ x₁₆) ∧ (x₃₃) ∧ (x₃₀ ∨ x₂₀ ∨ x₂₅ ∨ x₁₄ ∨ ¬x₃₂) ∧ (¬x₂₂ ∨ ¬x₃₀ ∨ ¬x₁₆) ∧ (¬x₂₃ ∨ ¬x₃₇ ∨ x₈) ∧ (x₂₀ ∨ ¬x₂₈ ∨ x₁₈ ∨ x₁₆ ∨ ¬x₆) ∧ (x₃₆ ∨ x₈) ∧ (x₇) ∧ (¬x₃₂ ∨ ¬x₃₆ ∨ ¬x₁₈ ∨ x₁₄ ∨ x₂₆) ∧ (¬x₁₁ ∨ ¬x₁₇ ∨ x₃₈ ∨ ¬x₃₀ ∨ ¬x₅) ∧ (x₃₈ ∨ ¬x₂₃ ∨ x₁₂) ∧ (¬x₈) ∧ (¬x₃₉ ∨ ¬x₅ ∨ x₂₄) ∧ (¬x₁₂) ∧ (¬x₁₆ ∨ ¬x₃₉ ∨ x₁₈ ∨ ¬x₉) ∧ (¬x₁₁ ∨ x₂ ∨ x₃₂ ∨ ¬x₈) ∧ (¬x₁ ∨ ¬x₃₉) ∧ (x₁₁ ∨ ¬x₃₆ ∨ ¬x₄₀) ∧ (¬x₆ ∨ ¬x₂₀ ∨ x₃ ∨ x₂₄ ∨ x₃₆) ∧ (x₂ ∨ ¬x₄₀ ∨ ¬x₈ ∨ ¬x₃₇ ∨ ¬x₃₄) ∧ (¬x₃₆ ∨ x₇ ∨ x₂₂ ∨ x₂₀) ∧ (¬x₂₇ ∨ x₂₈ ∨ x₃₈) ∧ (¬x₁₈ ∨ x₃₀ ∨ x₄) ∧ (x₂₃ ∨ x₂₄ ∨ ¬x₁₀) ∧ (¬x₈ ∨ ¬x₁₇ ∨ ¬x₂₅ ∨ ¬x₄ ∨ ¬x₂) ∧ (x₃₃ ∨ ¬x₄₀) ∧ (¬x₁₈ ∨ ¬x₄₀ ∨ x₂₅ ∨ ¬x₇) ∧ (x₂₈ ∨ ¬x₁₆ ∨ ¬x₁₈ ∨ ¬x₇) ∧ (x₃₀) ∧ (x₃₁ ∨ ¬x₃₇ ∨ x₅) ∧ (x₂₄ ∨ x₂) ∧ (x₁₆ ∨ ¬x₂₉) ∧ (¬x₃₉) ∧ (¬x₄ ∨ ¬x₁) ∧ (x₁₀ ∨ ¬x₂₇ ∨ ¬x₇) ∧ (x₂₃ ∨ ¬x₁₄) ∧ (x₂₉ ∨ ¬x₁₅ ∨ ¬x₈ ∨ ¬x₂₇) ∧ (x₃₁ ∨ ¬x₂₄ ∨ x₈ ∨ ¬x₂₆) ∧ (¬x₂₈ ∨ ¬x₁₆ ∨ ¬x₁) ∧ (¬x₁ ∨ ¬x₃₂ ∨ x₁₅ ∨ ¬x₃₀ ∨ x₂₉) ∧ (¬x₁₁ ∨ ¬x₃₃ ∨ x₁₅ ∨ ¬x₉ ∨ ¬x₃) ∧ (x₃₉ ∨ ¬x₁₂) ∧ (¬x₅ ∨ ¬x₁₁ ∨ ¬x₂₀) ∧ (x₁₈ ∨ ¬x₃₁ ∨ x₃₇ ∨ x₂₂) ∧ (¬x₂₉ ∨ ¬x₁ ∨ x₄) \n",
      "\n",
      "Erfüllende Belegung gefunden in der 14. Generation\n",
      "x₁: f       x₂: w       x₃: w       x₄: w       \n",
      "\n",
      "x₅: f       x₆: w       x₇: w       x₈: f       \n",
      "\n",
      "x₉: f       x₁₀: f      x₁₁: w      x₁₂: f      \n",
      "\n",
      "x₁₃: f      x₁₄: f      x₁₅: w      x₁₆: w      \n",
      "\n",
      "x₁₇: f      x₁₈: f      x₁₉: w      x₂₀: w      \n",
      "\n",
      "x₂₁: f      x₂₂: f      x₂₃: f      x₂₄: f      \n",
      "\n",
      "x₂₅: w      x₂₆: f      x₂₇: f      x₂₈: w      \n",
      "\n",
      "x₂₉: f      x₃₀: w      x₃₁: w      x₃₂: f      \n",
      "\n",
      "x₃₃: w      x₃₄: f      x₃₅: w      x₃₆: w      \n",
      "\n",
      "x₃₇: w      x₃₈: f      x₃₉: f      x₄₀: w      \n",
      "\n",
      "\n",
      "\n",
      "(¬x₃₁ ∨ \u001b[92m¬x₂₉\u001b[0m ∨ x₂₄ ∨ x₂₂ ∨ \u001b[92m¬x₁₄\u001b[0m) ∧ (\u001b[92mx₃₇\u001b[0m ∨ ¬x₂ ∨ \u001b[92mx₁₁\u001b[0m ∨ \u001b[92m¬x₃₂\u001b[0m ∨ x₁₈) ∧ (\u001b[92mx₁₅\u001b[0m ∨ x₂₂ ∨ \u001b[92m¬x₂₉\u001b[0m ∨ \u001b[92mx₄₀\u001b[0m) ∧ (\u001b[92m¬x₁\u001b[0m) ∧ (x₃₈ ∨ \u001b[92m¬x₂₇\u001b[0m ∨ \u001b[92mx₃₅\u001b[0m) ∧ (\u001b[92m¬x₂₄\u001b[0m) ∧ (\u001b[92mx₂₀\u001b[0m ∨ x₂₁) ∧ (\u001b[92mx₃\u001b[0m ∨ \u001b[92mx₄\u001b[0m ∨ ¬x₃₇ ∨ x₃₂ ∨ \u001b[92mx₂\u001b[0m) ∧ (\u001b[92mx₃₇\u001b[0m ∨ \u001b[92m¬x₃₈\u001b[0m ∨ ¬x₃₀) ∧ (\u001b[92m¬x₂₇\u001b[0m) ∧ (\u001b[92m¬x₂₁\u001b[0m ∨ \u001b[92m¬x₁₇\u001b[0m ∨ \u001b[92m¬x₁₂\u001b[0m ∨ \u001b[92mx₄\u001b[0m) ∧ (\u001b[92m¬x₂₄\u001b[0m ∨ ¬x₆ ∨ \u001b[92mx₁₉\u001b[0m ∨ \u001b[92mx₃₆\u001b[0m) ∧ (\u001b[92m¬x₂₆\u001b[0m) ∧ (\u001b[92m¬x₁\u001b[0m) ∧ (\u001b[92mx₃₇\u001b[0m) ∧ (¬x₄ ∨ \u001b[92mx₂₀\u001b[0m ∨ x₂₄ ∨ \u001b[92mx₁₆\u001b[0m) ∧ (\u001b[92mx₃₃\u001b[0m) ∧ (\u001b[92mx₃₀\u001b[0m ∨ \u001b[92mx₂₀\u001b[0m ∨ \u001b[92mx₂₅\u001b[0m ∨ x₁₄ ∨ \u001b[92m¬x₃₂\u001b[0m) ∧ (\u001b[92m¬x₂₂\u001b[0m ∨ ¬x₃₀ ∨ ¬x₁₆) ∧ (\u001b[92m¬x₂₃\u001b[0m ∨ ¬x₃₇ ∨ x₈) ∧ (\u001b[92mx₂₀\u001b[0m ∨ ¬x₂₈ ∨ x₁₈ ∨ \u001b[92mx₁₆\u001b[0m ∨ ¬x₆) ∧ (\u001b[92mx₃₆\u001b[0m ∨ x₈) ∧ (\u001b[92mx₇\u001b[0m) ∧ (\u001b[92m¬x₃₂\u001b[0m ∨ ¬x₃₆ ∨ \u001b[92m¬x₁₈\u001b[0m ∨ x₁₄ ∨ x₂₆) ∧ (¬x₁₁ ∨ \u001b[92m¬x₁₇\u001b[0m ∨ x₃₈ ∨ ¬x₃₀ ∨ \u001b[92m¬x₅\u001b[0m) ∧ (x₃₈ ∨ \u001b[92m¬x₂₃\u001b[0m ∨ x₁₂) ∧ (\u001b[92m¬x₈\u001b[0m) ∧ (\u001b[92m¬x₃₉\u001b[0m ∨ \u001b[92m¬x₅\u001b[0m ∨ x₂₄) ∧ (\u001b[92m¬x₁₂\u001b[0m) ∧ (¬x₁₆ ∨ \u001b[92m¬x₃₉\u001b[0m ∨ x₁₈ ∨ \u001b[92m¬x₉\u001b[0m) ∧ (¬x₁₁ ∨ \u001b[92mx₂\u001b[0m ∨ x₃₂ ∨ \u001b[92m¬x₈\u001b[0m) ∧ (\u001b[92m¬x₁\u001b[0m ∨ \u001b[92m¬x₃₉\u001b[0m) ∧ (\u001b[92mx₁₁\u001b[0m ∨ ¬x₃₆ ∨ ¬x₄₀) ∧ (¬x₆ ∨ ¬x₂₀ ∨ \u001b[92mx₃\u001b[0m ∨ x₂₄ ∨ \u001b[92mx₃₆\u001b[0m) ∧ (\u001b[92mx₂\u001b[0m ∨ ¬x₄₀ ∨ \u001b[92m¬x₈\u001b[0m ∨ ¬x₃₇ ∨ \u001b[92m¬x₃₄\u001b[0m) ∧ (¬x₃₆ ∨ \u001b[92mx₇\u001b[0m ∨ x₂₂ ∨ \u001b[92mx₂₀\u001b[0m) ∧ (\u001b[92m¬x₂₇\u001b[0m ∨ \u001b[92mx₂₈\u001b[0m ∨ x₃₈) ∧ (\u001b[92m¬x₁₈\u001b[0m ∨ \u001b[92mx₃₀\u001b[0m ∨ \u001b[92mx₄\u001b[0m) ∧ (x₂₃ ∨ x₂₄ ∨ \u001b[92m¬x₁₀\u001b[0m) ∧ (\u001b[92m¬x₈\u001b[0m ∨ \u001b[92m¬x₁₇\u001b[0m ∨ ¬x₂₅ ∨ ¬x₄ ∨ ¬x₂) ∧ (\u001b[92mx₃₃\u001b[0m ∨ ¬x₄₀) ∧ (\u001b[92m¬x₁₈\u001b[0m ∨ ¬x₄₀ ∨ \u001b[92mx₂₅\u001b[0m ∨ ¬x₇) ∧ (\u001b[92mx₂₈\u001b[0m ∨ ¬x₁₆ ∨ \u001b[92m¬x₁₈\u001b[0m ∨ ¬x₇) ∧ (\u001b[92mx₃₀\u001b[0m) ∧ (\u001b[92mx₃₁\u001b[0m ∨ ¬x₃₇ ∨ x₅) ∧ (x₂₄ ∨ \u001b[92mx₂\u001b[0m) ∧ (\u001b[92mx₁₆\u001b[0m ∨ \u001b[92m¬x₂₉\u001b[0m) ∧ (\u001b[92m¬x₃₉\u001b[0m) ∧ (¬x₄ ∨ \u001b[92m¬x₁\u001b[0m) ∧ (x₁₀ ∨ \u001b[92m¬x₂₇\u001b[0m ∨ ¬x₇) ∧ (x₂₃ ∨ \u001b[92m¬x₁₄\u001b[0m) ∧ (x₂₉ ∨ ¬x₁₅ ∨ \u001b[92m¬x₈\u001b[0m ∨ \u001b[92m¬x₂₇\u001b[0m) ∧ (\u001b[92mx₃₁\u001b[0m ∨ \u001b[92m¬x₂₄\u001b[0m ∨ x₈ ∨ \u001b[92m¬x₂₆\u001b[0m) ∧ (¬x₂₈ ∨ ¬x₁₆ ∨ \u001b[92m¬x₁\u001b[0m) ∧ (\u001b[92m¬x₁\u001b[0m ∨ \u001b[92m¬x₃₂\u001b[0m ∨ \u001b[92mx₁₅\u001b[0m ∨ ¬x₃₀ ∨ x₂₉) ∧ (¬x₁₁ ∨ ¬x₃₃ ∨ \u001b[92mx₁₅\u001b[0m ∨ \u001b[92m¬x₉\u001b[0m ∨ ¬x₃) ∧ (x₃₉ ∨ \u001b[92m¬x₁₂\u001b[0m) ∧ (\u001b[92m¬x₅\u001b[0m ∨ ¬x₁₁ ∨ ¬x₂₀) ∧ (x₁₈ ∨ ¬x₃₁ ∨ \u001b[92mx₃₇\u001b[0m ∨ x₂₂) ∧ (\u001b[92m¬x₂₉\u001b[0m ∨ \u001b[92m¬x₁\u001b[0m ∨ \u001b[92mx₄\u001b[0m)\n"
     ]
    },
    {
     "data": {
      "image/png": "[encoded data removed]",
      "text/plain": [
       "<Figure size 800x600 with 1 Axes>"
      ]
     },
     "metadata": {},
     "output_type": "display_data"
    }
   ],
   "source": [
    "knf = createRandomKNF()\n",
    "printKNF(knf)\n",
    "\n",
    "startPopulation = InitPopulation()\n",
    "(belegung, besteIndividuen) = Evolution(knf, maxGenerationen, startPopulation)\n",
    "\n",
    "plotEvolution(besteIndividuen)\n",
    "\n",
    "if belegung[0] != 'Kontradiktion':  #Falls eine Belegung gefunden wurde, diese ausgeben und KNF farblich markieren\n",
    "    printBelegung(belegung)\n",
    "    print_marked_knf(knf, belegung)"
   ]
  }
 ],
 "metadata": {
  "kernelspec": {
   "display_name": "env",
   "language": "python",
   "name": "python3"
  },
  "language_info": {
   "codemirror_mode": {
    "name": "ipython",
    "version": 3
   },
   "file_extension": ".py",
   "mimetype": "text/x-python",
   "name": "python",
   "nbconvert_exporter": "python",
   "pygments_lexer": "ipython3",
   "version": "3.11.7"
  }
 },
 "nbformat": 4,
 "nbformat_minor": 2
}
