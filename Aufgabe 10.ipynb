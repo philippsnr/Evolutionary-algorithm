{
 "cells": [
  {
   "cell_type": "markdown",
   "metadata": {},
   "source": [
    "# Aufgabe 10: 3-SAT Problem"
   ]
  },
  {
   "cell_type": "code",
   "execution_count": null,
   "metadata": {},
   "outputs": [],
   "source": [
    "import numpy as np\n",
    "rng = np.random.default_rng()\n",
    "\n",
    "################    Parameter   ################\n",
    "\n",
    "anzahlVariablen = 20\n",
    "anzahlKlauseln = 30\n",
    "maxLiteraleProKlausel = 3\n",
    "\n",
    "maxGenerationen = 30\n",
    "populationsGroesse = 100\n",
    "anzahlSelektion = 20\n",
    "anzahlMutation = 20\n",
    "anzahlRekombination = 30 #muss eine Gerade Zahl sein\n",
    "anzahlNeueIndividuen = 30\n",
    "\n",
    "################################################"
   ]
  },
  {
   "cell_type": "code",
   "execution_count": null,
   "metadata": {},
   "outputs": [],
   "source": [
    "def createRandomKNF():\n",
    "    Klauselmenge = []\n",
    "    for i in range(anzahlKlauseln):\n",
    "        numLiterale = rng.integers(low=1, high=(maxLiteraleProKlausel + 1))\n",
    "        Klausel = []\n",
    "        for k in range(numLiterale):\n",
    "            literal = rng.integers(low = 1, high=(anzahlVariablen + 1))\n",
    "            literal = -1*literal if rng.integers(low=0, high=2) == 1 else literal\n",
    "            while(literal in Klausel or -1*literal in Klausel):\n",
    "                literal = rng.integers(low = 1, high=(anzahlVariablen + 1))\n",
    "                literal = -1*literal if rng.integers(low=0, high=2) == 1 else literal\n",
    "            Klausel.append(literal)\n",
    "        for k in range(maxLiteraleProKlausel - numLiterale):\n",
    "            Klausel.append(0)\n",
    "        Klauselmenge.append(Klausel)\n",
    "\n",
    "    return Klauselmenge\n",
    "    \n",
    "\n",
    "#alt:\n",
    "#for i in range(25):\n",
    "    #numLiterale = rng.integers(low=1, high=4)\n",
    "    #if numLiterale == 1:\n",
    "        #Klauselmenge.append([rng.choice(np.concatenate((np.arange(-20, 0), np.arange(1, 21)))), 0, 0])\n",
    "    #if numLiterale == 2:\n",
    "        #Klauselmenge.append([rng.choice(np.concatenate((np.arange(-20, 0), np.arange(1, 21)))), rng.choice(np.concatenate((np.arange(-20, 0), np.arange(1, 21)))), 0])\n",
    "    #if numLiterale == 3:\n",
    "        #Klauselmenge.append([rng.choice(np.concatenate((np.arange(-20, 0), np.arange(1, 21)))), rng.choice(np.concatenate((np.arange(-20, 0), np.arange(1, 21)))), rng.choice(np.concatenate((np.arange(-20, 0), np.arange(1, 21))))])\n",
    "\n"
   ]
  },
  {
   "cell_type": "code",
   "execution_count": null,
   "metadata": {},
   "outputs": [],
   "source": [
    "knf = createRandomKNF()"
   ]
  },
  {
   "cell_type": "code",
   "execution_count": null,
   "metadata": {},
   "outputs": [],
   "source": [
    "def InitPopulation():\n",
    "    initPopulation = rng.integers(size=(populationsGroesse, (anzahlVariablen + 1)), low=0, high=2)\n",
    "    for individuum in initPopulation:\n",
    "        individuum[0] = 1\n",
    "\n",
    "    return initPopulation"
   ]
  },
  {
   "cell_type": "code",
   "execution_count": null,
   "metadata": {},
   "outputs": [],
   "source": [
    "def sortPopulation(population):\n",
    "    bewertung = {}\n",
    "    for i, individuum in enumerate(population):\n",
    "        erfüllteKlauseln = 0\n",
    "        for klausel in knf:\n",
    "            for variable in klausel:\n",
    "                if variable > 0 and individuum[variable] == 1:\n",
    "                    erfüllteKlauseln = erfüllteKlauseln + 1\n",
    "                    break\n",
    "                elif variable < 0 and individuum[-1 * variable] == 0:\n",
    "                    erfüllteKlauseln = erfüllteKlauseln + 1\n",
    "                    break\n",
    "        bewertung[i] = erfüllteKlauseln\n",
    "\n",
    "    sortierteIndividuen = dict(sorted(bewertung.items(), key=lambda item: item[1]))\n",
    "\n",
    "    return sortierteIndividuen"
   ]
  },
  {
   "cell_type": "code",
   "execution_count": null,
   "metadata": {},
   "outputs": [],
   "source": [
    "def Selektion(sortedPopulation, population):\n",
    "    selected = []\n",
    "    np.array(selected)\n",
    "    for i in range(anzahlSelektion):\n",
    "        individuum = population[list(sortedPopulation.keys())[(populationsGroesse - 1)-i]]\n",
    "        #print(individuum)\n",
    "        selected.extend(individuum)\n",
    "        \n",
    "        #selected = np.concatenate((selected,individuum ), axis=0)\n",
    "        #selected[99-i] = [individuum]\n",
    "        #selectet = selected + individuum\n",
    "        #selected\n",
    "    selected = np.reshape(selected, (anzahlSelektion, (anzahlVariablen + 1)))\n",
    "    \n",
    "    return selected"
   ]
  },
  {
   "cell_type": "code",
   "execution_count": null,
   "metadata": {},
   "outputs": [],
   "source": [
    "def Mutation(sortedPopulation, population):\n",
    "    mutatedPopulation = []\n",
    "    for i in range(anzahlMutation):\n",
    "        individuum = population[list(sortedPopulation.keys())[(populationsGroesse - 1)-i] ]\n",
    "        mutationSpot = rng.integers(low=1, high=(anzahlVariablen + 1))\n",
    "        individuum[mutationSpot] = 1 if individuum[mutationSpot] == 0 else 0\n",
    "        mutatedPopulation.append(individuum)\n",
    "\n",
    "    return mutatedPopulation\n",
    "        "
   ]
  },
  {
   "cell_type": "code",
   "execution_count": null,
   "metadata": {},
   "outputs": [],
   "source": [
    "def Rekombination(sortedPopulation, population):\n",
    "    recombinedPopulation = []\n",
    "    for i in range(int(anzahlRekombination / 2)):\n",
    "        individuum1 = np.array_split(population[list(sortedPopulation.keys())[(populationsGroesse - 1)-i]], 2)\n",
    "        individuum2 = np.array_split(population[list(sortedPopulation.keys())[rng.integers(low=1, high=21)]], 2)\n",
    "\n",
    "        new1 = np.concatenate((individuum1[0], individuum2[1]))\n",
    "        new2 = np.concatenate((individuum2[0], individuum1[1]))\n",
    "\n",
    "        recombinedPopulation.append(new1)\n",
    "        recombinedPopulation.append(new2)\n",
    "        \n",
    "    return recombinedPopulation"
   ]
  },
  {
   "cell_type": "code",
   "execution_count": null,
   "metadata": {},
   "outputs": [],
   "source": [
    "def createNewRandom():\n",
    "    newRandoms = rng.integers(size=(anzahlNeueIndividuen, (anzahlVariablen+1)), low=0, high=2)\n",
    "    for individuum in newRandoms:\n",
    "        individuum[0] = 1\n",
    "        \n",
    "    return newRandoms"
   ]
  },
  {
   "cell_type": "code",
   "execution_count": null,
   "metadata": {},
   "outputs": [],
   "source": [
    "def Evolution(iterations, startPopulation):\n",
    "    population = startPopulation\n",
    "    for i in range(iterations):\n",
    "        sortedPopulation = sortPopulation(population)\n",
    "\n",
    "        print(list(sortedPopulation.values())[populationsGroesse - 1])\n",
    "\n",
    "        selektion = Selektion(sortedPopulation, population)\n",
    "        mutation = Mutation(sortedPopulation, population)\n",
    "        rekombination = Rekombination(sortedPopulation, population)\n",
    "        newRandoms = createNewRandom()\n",
    "\n",
    "        newPopulation = np.concatenate((selektion, newRandoms,mutation,rekombination ),  axis=0)\n",
    "\n",
    "        population = newPopulation"
   ]
  },
  {
   "cell_type": "code",
   "execution_count": null,
   "metadata": {},
   "outputs": [],
   "source": [
    "startPopulation = InitPopulation()\n",
    "Evolution(maxGenerationen, startPopulation)"
   ]
  }
 ],
 "metadata": {
  "kernelspec": {
   "display_name": "env",
   "language": "python",
   "name": "python3"
  },
  "language_info": {
   "codemirror_mode": {
    "name": "ipython",
    "version": 3
   },
   "file_extension": ".py",
   "mimetype": "text/x-python",
   "name": "python",
   "nbconvert_exporter": "python",
   "pygments_lexer": "ipython3",
   "version": "3.11.7"
  }
 },
 "nbformat": 4,
 "nbformat_minor": 2
}
