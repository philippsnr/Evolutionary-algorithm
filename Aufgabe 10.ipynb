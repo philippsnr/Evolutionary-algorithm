{
 "cells": [
  {
   "cell_type": "markdown",
   "metadata": {},
   "source": [
    "# Aufgabe 10: 3-SAT Problem"
   ]
  },
  {
   "cell_type": "markdown",
   "metadata": {},
   "source": [
    "Befehl env/Scripts/activate zum Starten der Virtuellen Umgebung\n"
   ]
  },
  {
   "cell_type": "code",
   "execution_count": 293,
   "metadata": {},
   "outputs": [],
   "source": [
    "import numpy as np\n",
    "rng = np.random.default_rng()\n",
    "\n",
    "################    Parameter   ################\n",
    "\n",
    "anzahlVariablen = 20\n",
    "anzahlKlauseln = 30\n",
    "maxLiteraleProKlausel = 3\n",
    "\n",
    "maxGenerationen = 30\n",
    "populationsGroesse = 100\n",
    "anzahlSelektion = 20\n",
    "anzahlMutation = 20\n",
    "anzahlRekombination = 30 #muss eine Gerade Zahl sein\n",
    "anzahlNeueIndividuen = 30\n",
    "\n",
    "################################################"
   ]
  },
  {
   "cell_type": "code",
   "execution_count": 294,
   "metadata": {},
   "outputs": [],
   "source": [
    "def createRandomKNF():\n",
    "    Klauselmenge = []\n",
    "    for i in range(anzahlKlauseln):\n",
    "        numLiterale = rng.integers(low=1, high=(maxLiteraleProKlausel + 1))\n",
    "        Klausel = []\n",
    "        for k in range(numLiterale):\n",
    "            literal = rng.integers(low = 1, high=(anzahlVariablen + 1))\n",
    "            literal = -1*literal if rng.integers(low=0, high=2) == 1 else literal\n",
    "            while(literal in Klausel or -1*literal in Klausel):\n",
    "                literal = rng.integers(low = 1, high=(anzahlVariablen + 1))\n",
    "                literal = -1*literal if rng.integers(low=0, high=2) == 1 else literal\n",
    "            Klausel.append(literal)\n",
    "        for k in range(maxLiteraleProKlausel - numLiterale):\n",
    "            Klausel.append(0)\n",
    "        Klauselmenge.append(Klausel)\n",
    "    print(Klauselmenge)\n",
    "    return Klauselmenge\n",
    "    \n",
    "\n",
    "#alt:\n",
    "#for i in range(25):\n",
    "    #numLiterale = rng.integers(low=1, high=4)\n",
    "    #if numLiterale == 1:\n",
    "        #Klauselmenge.append([rng.choice(np.concatenate((np.arange(-20, 0), np.arange(1, 21)))), 0, 0])\n",
    "    #if numLiterale == 2:\n",
    "        #Klauselmenge.append([rng.choice(np.concatenate((np.arange(-20, 0), np.arange(1, 21)))), rng.choice(np.concatenate((np.arange(-20, 0), np.arange(1, 21)))), 0])\n",
    "    #if numLiterale == 3:\n",
    "        #Klauselmenge.append([rng.choice(np.concatenate((np.arange(-20, 0), np.arange(1, 21)))), rng.choice(np.concatenate((np.arange(-20, 0), np.arange(1, 21)))), rng.choice(np.concatenate((np.arange(-20, 0), np.arange(1, 21))))])\n",
    "\n"
   ]
  },
  {
   "cell_type": "code",
   "execution_count": 295,
   "metadata": {},
   "outputs": [],
   "source": [
    "def generateWordKNF(klauselmenge):\n",
    "    wordKlauselmenge = []\n",
    "    for klausel in klauselmenge:\n",
    "        wordKlausel =[]\n",
    "        for i,variable in enumerate(klausel):\n",
    "            if variable == 0:\n",
    "                wordKlausel.append(\"W ∨ \")\n",
    "            elif variable >0:\n",
    "                number = int(variable)\n",
    "                number = str(number)\n",
    "                number = ''.join(chr(8320 + int(digit)) for digit in number)\n",
    "                wordKlausel.append(\"X\" + number + \" ∨ \")\n",
    "            elif variable <0:\n",
    "                number = abs(int(variable))\n",
    "                number = str(number)\n",
    "                number = ''.join(chr(8320 + int(digit)) for digit in number)\n",
    "                wordKlausel.append(\"¬X\" + number + \" ∨ \")\n",
    "        wordKlausel[-1] = wordKlausel[-1].replace(\" ∨ \", '')\n",
    "            \n",
    "        wordKlauselmenge.append(wordKlausel)\n",
    "    return(wordKlauselmenge)\n",
    "\n",
    "def printWordKNF(wordKlauselmenge):\n",
    "    for Klausel in wordKlauselmenge:\n",
    "        print(\"(\", end=\"\")\n",
    "        for Variable in Klausel:\n",
    "            print(Variable, end=\"\")\n",
    "        print(\")∧\" ,end=\"\")\n",
    "        \n",
    "    \n",
    "\n",
    "\n",
    "\n",
    "\n",
    "    "
   ]
  },
  {
   "cell_type": "code",
   "execution_count": 296,
   "metadata": {},
   "outputs": [
    {
     "name": "stdout",
     "output_type": "stream",
     "text": [
      "[[-16, 0, 0], [12, 19, 0], [15, 19, 9], [12, 0, 0], [17, 20, -1], [4, -12, 0], [-3, 0, 0], [-9, 5, -6], [16, -7, 9], [12, 0, 0], [-11, 2, 7], [10, 0, 0], [5, -12, 14], [19, 3, 0], [-17, 0, 0], [-20, -2, 0], [-3, 0, 0], [-5, 0, 0], [3, 0, 0], [9, 0, 0], [18, -9, 2], [10, -12, 11], [-7, 0, 0], [19, -6, 0], [-7, 0, 0], [17, 0, 0], [16, 1, 14], [-17, 20, 0], [5, -3, 2], [12, 17, -9]]\n",
      "(¬X₁₆ ∨ W ∨ W)∧(X₁₂ ∨ X₁₉ ∨ W)∧(X₁₅ ∨ X₁₉ ∨ X₉)∧(X₁₂ ∨ W ∨ W)∧(X₁₇ ∨ X₂₀ ∨ ¬X₁)∧(X₄ ∨ ¬X₁₂ ∨ W)∧(¬X₃ ∨ W ∨ W)∧(¬X₉ ∨ X₅ ∨ ¬X₆)∧(X₁₆ ∨ ¬X₇ ∨ X₉)∧(X₁₂ ∨ W ∨ W)∧(¬X₁₁ ∨ X₂ ∨ X₇)∧(X₁₀ ∨ W ∨ W)∧(X₅ ∨ ¬X₁₂ ∨ X₁₄)∧(X₁₉ ∨ X₃ ∨ W)∧(¬X₁₇ ∨ W ∨ W)∧(¬X₂₀ ∨ ¬X₂ ∨ W)∧(¬X₃ ∨ W ∨ W)∧(¬X₅ ∨ W ∨ W)∧(X₃ ∨ W ∨ W)∧(X₉ ∨ W ∨ W)∧(X₁₈ ∨ ¬X₉ ∨ X₂)∧(X₁₀ ∨ ¬X₁₂ ∨ X₁₁)∧(¬X₇ ∨ W ∨ W)∧(X₁₉ ∨ ¬X₆ ∨ W)∧(¬X₇ ∨ W ∨ W)∧(X₁₇ ∨ W ∨ W)∧(X₁₆ ∨ X₁ ∨ X₁₄)∧(¬X₁₇ ∨ X₂₀ ∨ W)∧(X₅ ∨ ¬X₃ ∨ X₂)∧(X₁₂ ∨ X₁₇ ∨ ¬X₉)∧"
     ]
    }
   ],
   "source": [
    "benutzereingabe = 4\n",
    "while benutzereingabe <0 or benutzereingabe >3:\n",
    "    benutzereingabe = int(input(\"Bitte Modus wählen \\n  1 = zufällige \\n 2 = Eingabe einer Kontradiktion \\n \"))\n",
    "\n",
    "\n",
    "if benutzereingabe ==1:\n",
    "    knf = createRandomKNF()\n",
    "elif benutzereingabe ==2:\n",
    "    #Kontradiktionserstellung\n",
    "    print(benutzereingabe)\n",
    "wordKNF = generateWordKNF(knf)\n",
    "printWordKNF(wordKNF)\n",
    "\n",
    "\n"
   ]
  },
  {
   "cell_type": "code",
   "execution_count": 297,
   "metadata": {},
   "outputs": [],
   "source": [
    "def InitPopulation():\n",
    "    initPopulation = rng.integers(size=(populationsGroesse, (anzahlVariablen + 1)), low=0, high=2)\n",
    "    for individuum in initPopulation:\n",
    "        individuum[0] = 1\n",
    "\n",
    "    return initPopulation"
   ]
  },
  {
   "cell_type": "code",
   "execution_count": 298,
   "metadata": {},
   "outputs": [],
   "source": [
    "def sortPopulation(population):\n",
    "    bewertung = {}\n",
    "    for i, individuum in enumerate(population):\n",
    "        erfüllteKlauseln = 0\n",
    "        for klausel in knf:\n",
    "            for variable in klausel:\n",
    "                if variable > 0 and individuum[variable] == 1:\n",
    "                    erfüllteKlauseln = erfüllteKlauseln + 1\n",
    "                    break\n",
    "                elif variable < 0 and individuum[-1 * variable] == 0:\n",
    "                    erfüllteKlauseln = erfüllteKlauseln + 1\n",
    "                    break\n",
    "        bewertung[i] = erfüllteKlauseln\n",
    "\n",
    "    sortierteIndividuen = dict(sorted(bewertung.items(), key=lambda item: item[1]))\n",
    "\n",
    "    return sortierteIndividuen"
   ]
  },
  {
   "cell_type": "code",
   "execution_count": 299,
   "metadata": {},
   "outputs": [],
   "source": [
    "def Selektion(sortedPopulation, population):\n",
    "    selected = []\n",
    "    np.array(selected)\n",
    "    for i in range(anzahlSelektion):\n",
    "        individuum = population[list(sortedPopulation.keys())[(populationsGroesse - 1)-i]]\n",
    "        #print(individuum)\n",
    "        selected.extend(individuum)\n",
    "        \n",
    "        #selected = np.concatenate((selected,individuum ), axis=0)\n",
    "        #selected[99-i] = [individuum]\n",
    "        #selectet = selected + individuum\n",
    "        #selected\n",
    "    selected = np.reshape(selected, (anzahlSelektion, (anzahlVariablen + 1)))\n",
    "    \n",
    "    return selected"
   ]
  },
  {
   "cell_type": "code",
   "execution_count": 300,
   "metadata": {},
   "outputs": [],
   "source": [
    "def Mutation(sortedPopulation, population):\n",
    "    mutatedPopulation = []\n",
    "    for i in range(anzahlMutation):\n",
    "        individuum = population[list(sortedPopulation.keys())[(populationsGroesse - 1)-i] ]\n",
    "        mutationSpot = rng.integers(low=1, high=(anzahlVariablen + 1))\n",
    "        individuum[mutationSpot] = 1 if individuum[mutationSpot] == 0 else 0\n",
    "        mutatedPopulation.append(individuum)\n",
    "\n",
    "    return mutatedPopulation\n",
    "        "
   ]
  },
  {
   "cell_type": "code",
   "execution_count": 301,
   "metadata": {},
   "outputs": [],
   "source": [
    "def Rekombination(sortedPopulation, population):\n",
    "    recombinedPopulation = []\n",
    "    for i in range(int(anzahlRekombination / 2)):\n",
    "        individuum1 = np.array_split(population[list(sortedPopulation.keys())[(populationsGroesse - 1)-i]], 2)\n",
    "        individuum2 = np.array_split(population[list(sortedPopulation.keys())[rng.integers(low=1, high=21)]], 2)\n",
    "\n",
    "        new1 = np.concatenate((individuum1[0], individuum2[1]))\n",
    "        new2 = np.concatenate((individuum2[0], individuum1[1]))\n",
    "\n",
    "        recombinedPopulation.append(new1)\n",
    "        recombinedPopulation.append(new2)\n",
    "        \n",
    "    return recombinedPopulation"
   ]
  },
  {
   "cell_type": "code",
   "execution_count": 302,
   "metadata": {},
   "outputs": [],
   "source": [
    "def createNewRandom():\n",
    "    newRandoms = rng.integers(size=(anzahlNeueIndividuen, (anzahlVariablen+1)), low=0, high=2)\n",
    "    for individuum in newRandoms:\n",
    "        individuum[0] = 1\n",
    "        \n",
    "    return newRandoms"
   ]
  },
  {
   "cell_type": "code",
   "execution_count": 303,
   "metadata": {},
   "outputs": [],
   "source": [
    "def Evolution(iterations, startPopulation):\n",
    "    population = startPopulation\n",
    "    for i in range(iterations):\n",
    "        sortedPopulation = sortPopulation(population)\n",
    "\n",
    "        print(list(sortedPopulation.values())[populationsGroesse - 1])\n",
    "\n",
    "        selektion = Selektion(sortedPopulation, population)\n",
    "        mutation = Mutation(sortedPopulation, population)\n",
    "        rekombination = Rekombination(sortedPopulation, population)\n",
    "        newRandoms = createNewRandom()\n",
    "\n",
    "        newPopulation = np.concatenate((selektion, newRandoms,mutation,rekombination ),  axis=0)\n",
    "\n",
    "        population = newPopulation"
   ]
  },
  {
   "cell_type": "code",
   "execution_count": 304,
   "metadata": {},
   "outputs": [
    {
     "name": "stdout",
     "output_type": "stream",
     "text": [
      "26\n",
      "27\n",
      "28\n",
      "28\n",
      "28\n",
      "28\n",
      "28\n",
      "28\n",
      "28\n",
      "28\n",
      "28\n",
      "28\n",
      "28\n",
      "28\n",
      "28\n",
      "28\n",
      "28\n",
      "28\n",
      "28\n",
      "28\n",
      "28\n",
      "28\n",
      "28\n",
      "28\n",
      "28\n",
      "28\n",
      "28\n",
      "28\n",
      "28\n",
      "28\n"
     ]
    }
   ],
   "source": [
    "startPopulation = InitPopulation()\n",
    "Evolution(maxGenerationen, startPopulation)"
   ]
  }
 ],
 "metadata": {
  "kernelspec": {
   "display_name": "env",
   "language": "python",
   "name": "python3"
  },
  "language_info": {
   "codemirror_mode": {
    "name": "ipython",
    "version": 3
   },
   "file_extension": ".py",
   "mimetype": "text/x-python",
   "name": "python",
   "nbconvert_exporter": "python",
   "pygments_lexer": "ipython3",
   "version": "3.12.2"
  }
 },
 "nbformat": 4,
 "nbformat_minor": 2
}
